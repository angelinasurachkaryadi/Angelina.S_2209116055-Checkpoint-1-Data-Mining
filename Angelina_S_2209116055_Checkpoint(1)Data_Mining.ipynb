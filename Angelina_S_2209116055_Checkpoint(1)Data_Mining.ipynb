{
  "nbformat": 4,
  "nbformat_minor": 0,
  "metadata": {
    "colab": {
      "provenance": [],
      "authorship_tag": "ABX9TyNnxYGFnnbx5mUaFZMUvqni",
      "include_colab_link": true
    },
    "kernelspec": {
      "name": "python3",
      "display_name": "Python 3"
    },
    "language_info": {
      "name": "python"
    }
  },
  "cells": [
    {
      "cell_type": "markdown",
      "metadata": {
        "id": "view-in-github",
        "colab_type": "text"
      },
      "source": [
        "<a href=\"https://colab.research.google.com/github/angelinasurachkaryadi/Angelina.S_2209116055-Checkpoint-1-Data-Mining/blob/main/Angelina_S_2209116055_Checkpoint(1)Data_Mining.ipynb\" target=\"_parent\"><img src=\"https://colab.research.google.com/assets/colab-badge.svg\" alt=\"Open In Colab\"/></a>"
      ]
    },
    {
      "cell_type": "code",
      "execution_count": null,
      "metadata": {
        "id": "0WnkH5ann1ZV"
      },
      "outputs": [],
      "source": []
    },
    {
      "cell_type": "markdown",
      "source": [
        "# **Mengungkap perilaku konsumen dan tren ritel melalui data penjualan data supermarket.**"
      ],
      "metadata": {
        "id": "3x5hYcWwn4CF"
      }
    },
    {
      "cell_type": "markdown",
      "source": [
        "#Business Understanding"
      ],
      "metadata": {
        "id": "SQyrp8FVsjt5"
      }
    },
    {
      "cell_type": "markdown",
      "source": [
        "\n",
        "\n",
        "Business Objective\n",
        "\n",
        "Tujuan dari dataset ini adalah memberikan gamnbaran komprehensif tentang penjualan supermarket menawarkan wawasan tentang perilaku pembelian konsumen,tren produk,dan dinamika ritel.Menganalisis data ini memungkinkan pengecer,pemasar,dan analisis untuk mengoptimalkan strategi,meningkatkan manajemen inventaris,dan meningkatkan pengalaman pelanggan.\n",
        "\n",
        "\n",
        "Assess Situation\n",
        "\n",
        "Situasi saat ini menunjukkan bahwa dengan semakin meningkatnya persaingan di industri ritel,pemahaman yang mendalam tentang perilaku konsumen dan tren penjualan menjadi krusial bagi keberhasilan bisnis.Dengan adanya data penjualan Super Market,pelaku industri memiliki kesempatan untuk mengidentifikasi pola pembelian konsumen,menangkap tren produk yang sedang berkembang,dan merespons dinamika pasar dengan lebih cepat dan tepat.\n",
        "\n",
        "Data Mining Goals\n",
        "\n",
        "Tujuan dari data mining ini adalah untuk mengidentifikasi pola perilaku konsumen dalam pembelian di Super Market serta menganalisis tren penjualan produk.Dengan begitu,tujuan tersebut dapat mengoptimalkan strategi bisnis,manjemen inventaris,dan pengalaman pelanggan melalui pemahaman yang lebih baik tentang prefensi konsumen dan dinamika pasar.\n",
        "\n",
        "Project Plan\n",
        "\n",
        "Proyek ini akan dimulai dengan tahap eksplorasi dan pemahaman data,di mana dataset penjualan super market akan dianalisis secara mendalam untuk mengidentifikasi pola perilaku konsumen dan tren penjualan produk.Selanjutnya mempersiapkan data supaya siap untuk dianalisis agar mengungkap informasi penting tentang perilaku konsumen dan tren ritel.\n",
        "\n",
        "\n",
        "\n"
      ],
      "metadata": {
        "id": "lm5e6QapooEx"
      }
    }
  ]
}