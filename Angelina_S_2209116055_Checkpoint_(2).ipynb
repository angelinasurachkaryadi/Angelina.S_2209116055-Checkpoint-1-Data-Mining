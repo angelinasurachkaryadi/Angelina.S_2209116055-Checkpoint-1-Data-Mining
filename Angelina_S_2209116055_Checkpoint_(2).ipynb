{
  "nbformat": 4,
  "nbformat_minor": 0,
  "metadata": {
    "colab": {
      "provenance": [],
      "include_colab_link": true
    },
    "kernelspec": {
      "name": "python3",
      "display_name": "Python 3"
    },
    "language_info": {
      "name": "python"
    }
  },
  "cells": [
    {
      "cell_type": "markdown",
      "metadata": {
        "id": "view-in-github",
        "colab_type": "text"
      },
      "source": [
        "<a href=\"https://colab.research.google.com/github/angelinasurachkaryadi/Angelina.S_2209116055-Data-Mining/blob/main/Angelina_S_2209116055_Checkpoint_(2).ipynb\" target=\"_parent\"><img src=\"https://colab.research.google.com/assets/colab-badge.svg\" alt=\"Open In Colab\"/></a>"
      ]
    },
    {
      "cell_type": "markdown",
      "source": [
        "# **SUPERMARKET SALES**"
      ],
      "metadata": {
        "id": "h3AZjxo2ZxS6"
      }
    },
    {
      "cell_type": "markdown",
      "source": [
        "#**Import Library**"
      ],
      "metadata": {
        "id": "JNBmfbIjWxgM"
      }
    },
    {
      "cell_type": "code",
      "source": [
        "import pandas as pd"
      ],
      "metadata": {
        "id": "JsnHJGLtW06a"
      },
      "execution_count": 1,
      "outputs": []
    },
    {
      "cell_type": "code",
      "source": [
        "import seaborn as sns"
      ],
      "metadata": {
        "id": "ELbG7zvBy_Or"
      },
      "execution_count": 2,
      "outputs": []
    },
    {
      "cell_type": "code",
      "source": [
        "import matplotlib as plt"
      ],
      "metadata": {
        "id": "YcVNCYLnzH0P"
      },
      "execution_count": 3,
      "outputs": []
    },
    {
      "cell_type": "markdown",
      "source": [
        "#**BUSINESS UNDERSTANDING**"
      ],
      "metadata": {
        "id": "NjuQhrNyZtm3"
      }
    },
    {
      "cell_type": "markdown",
      "source": [
        "##**Business Objective**"
      ],
      "metadata": {
        "id": "qzSZy2KwZ4zx"
      }
    },
    {
      "cell_type": "markdown",
      "source": [
        "Tujuan dari dataset ini adalah memberikan gamnbaran komprehensif tentang penjualan supermarket menawarkan wawasan tentang perilaku pembelian konsumen,tren produk,dan dinamika ritel.Menganalisis data ini memungkinkan pengecer,pemasar,dan analisis untuk mengoptimalkan strategi,meningkatkan manajemen inventaris,dan meningkatkan pengalaman pelanggan."
      ],
      "metadata": {
        "id": "hU2-bH_KZ8Ge"
      }
    },
    {
      "cell_type": "markdown",
      "source": [
        "##**Assess Situation**"
      ],
      "metadata": {
        "id": "3dTYY-qjZ_Yz"
      }
    },
    {
      "cell_type": "markdown",
      "source": [
        "Situasi saat ini menunjukkan bahwa dengan semakin meningkatnya persaingan di industri ritel,pemahaman yang mendalam tentang perilaku konsumen dan tren penjualan menjadi krusial bagi keberhasilan bisnis.Dengan adanya data penjualan Super Market,pelaku industri memiliki kesempatan untuk mengidentifikasi pola pembelian konsumen,menangkap tren produk yang sedang berkembang,dan merespons dinamika pasar dengan lebih cepat dan tepat."
      ],
      "metadata": {
        "id": "3mI7ZTjDaGnC"
      }
    },
    {
      "cell_type": "markdown",
      "source": [
        "##**Data Mining Goals**"
      ],
      "metadata": {
        "id": "Tqvpt5r-aJKs"
      }
    },
    {
      "cell_type": "markdown",
      "source": [
        "Tujuan dari data mining ini adalah untuk mengidentifikasi pola perilaku konsumen dalam pembelian di Super Market serta menganalisis tren penjualan produk.Dengan begitu,tujuan tersebut dapat mengoptimalkan strategi bisnis,manjemen inventaris,dan pengalaman pelanggan melalui pemahaman yang lebih baik tentang prefensi konsumen dan dinamika pasar."
      ],
      "metadata": {
        "id": "GXsyNC0zaO-o"
      }
    },
    {
      "cell_type": "markdown",
      "source": [
        "##**Project Plan**"
      ],
      "metadata": {
        "id": "78Yvo7Q9aRTt"
      }
    },
    {
      "cell_type": "markdown",
      "source": [
        "Proyek ini akan dimulai dengan tahap eksplorasi dan pemahaman data,di mana dataset penjualan super market akan dianalisis secara mendalam untuk mengidentifikasi pola perilaku konsumen dan tren penjualan produk.Selanjutnya mempersiapkan data supaya siap untuk dianalisis agar mengungkap informasi penting tentang perilaku konsumen dan tren ritel."
      ],
      "metadata": {
        "id": "H0uheBdyaUfH"
      }
    },
    {
      "cell_type": "markdown",
      "source": [
        "#**DATA UNDERSTANDING**"
      ],
      "metadata": {
        "id": "8yFrLpBtZXuy"
      }
    },
    {
      "cell_type": "markdown",
      "source": [
        "##**Collect Initial Data**"
      ],
      "metadata": {
        "id": "tjm5LzEuT0oe"
      }
    },
    {
      "cell_type": "markdown",
      "source": [
        "Sumber data ini dari kaggle,berikut linknya : https://www.kaggle.com/datasets/arunjangir245/super-market-sales"
      ],
      "metadata": {
        "id": "SsIGird1UBw8"
      }
    },
    {
      "cell_type": "code",
      "execution_count": null,
      "metadata": {
        "id": "3ncBfThxSpiL",
        "colab": {
          "base_uri": "https://localhost:8080/",
          "height": 347
        },
        "outputId": "286eaad7-8dbd-4fad-fa52-142f7df2586b"
      },
      "outputs": [
        {
          "output_type": "execute_result",
          "data": {
            "text/plain": [
              "    Invoice ID Branch       City Customer type  Gender  \\\n",
              "0  750-67-8428      A     Yangon        Member  Female   \n",
              "1  226-31-3081      C  Naypyitaw        Normal  Female   \n",
              "2  631-41-3108      A     Yangon        Normal    Male   \n",
              "3  123-19-1176      A     Yangon        Member    Male   \n",
              "4  373-73-7910      A     Yangon        Normal    Male   \n",
              "\n",
              "             Product line  Unit price  Quantity   Tax 5%     Total       Date  \\\n",
              "0       Health and beauty       74.69         7  26.1415  548.9715   1/5/2019   \n",
              "1  Electronic accessories       15.28         5   3.8200   80.2200   3/8/2019   \n",
              "2      Home and lifestyle       46.33         7  16.2155  340.5255   3/3/2019   \n",
              "3       Health and beauty       58.22         8  23.2880  489.0480  1/27/2019   \n",
              "4       Sports and travel       86.31         7  30.2085  634.3785   2/8/2019   \n",
              "\n",
              "    Time      Payment    cogs  gross margin percentage  gross income  Rating  \n",
              "0  13:08      Ewallet  522.83                 4.761905       26.1415     9.1  \n",
              "1  10:29         Cash   76.40                 4.761905        3.8200     9.6  \n",
              "2  13:23  Credit card  324.31                 4.761905       16.2155     7.4  \n",
              "3  20:33      Ewallet  465.76                 4.761905       23.2880     8.4  \n",
              "4  10:37      Ewallet  604.17                 4.761905       30.2085     5.3  "
            ],
            "text/html": [
              "\n",
              "  <div id=\"df-6e5951ca-3f1a-4c35-9e73-f38e8e0d5053\" class=\"colab-df-container\">\n",
              "    <div>\n",
              "<style scoped>\n",
              "    .dataframe tbody tr th:only-of-type {\n",
              "        vertical-align: middle;\n",
              "    }\n",
              "\n",
              "    .dataframe tbody tr th {\n",
              "        vertical-align: top;\n",
              "    }\n",
              "\n",
              "    .dataframe thead th {\n",
              "        text-align: right;\n",
              "    }\n",
              "</style>\n",
              "<table border=\"1\" class=\"dataframe\">\n",
              "  <thead>\n",
              "    <tr style=\"text-align: right;\">\n",
              "      <th></th>\n",
              "      <th>Invoice ID</th>\n",
              "      <th>Branch</th>\n",
              "      <th>City</th>\n",
              "      <th>Customer type</th>\n",
              "      <th>Gender</th>\n",
              "      <th>Product line</th>\n",
              "      <th>Unit price</th>\n",
              "      <th>Quantity</th>\n",
              "      <th>Tax 5%</th>\n",
              "      <th>Total</th>\n",
              "      <th>Date</th>\n",
              "      <th>Time</th>\n",
              "      <th>Payment</th>\n",
              "      <th>cogs</th>\n",
              "      <th>gross margin percentage</th>\n",
              "      <th>gross income</th>\n",
              "      <th>Rating</th>\n",
              "    </tr>\n",
              "  </thead>\n",
              "  <tbody>\n",
              "    <tr>\n",
              "      <th>0</th>\n",
              "      <td>750-67-8428</td>\n",
              "      <td>A</td>\n",
              "      <td>Yangon</td>\n",
              "      <td>Member</td>\n",
              "      <td>Female</td>\n",
              "      <td>Health and beauty</td>\n",
              "      <td>74.69</td>\n",
              "      <td>7</td>\n",
              "      <td>26.1415</td>\n",
              "      <td>548.9715</td>\n",
              "      <td>1/5/2019</td>\n",
              "      <td>13:08</td>\n",
              "      <td>Ewallet</td>\n",
              "      <td>522.83</td>\n",
              "      <td>4.761905</td>\n",
              "      <td>26.1415</td>\n",
              "      <td>9.1</td>\n",
              "    </tr>\n",
              "    <tr>\n",
              "      <th>1</th>\n",
              "      <td>226-31-3081</td>\n",
              "      <td>C</td>\n",
              "      <td>Naypyitaw</td>\n",
              "      <td>Normal</td>\n",
              "      <td>Female</td>\n",
              "      <td>Electronic accessories</td>\n",
              "      <td>15.28</td>\n",
              "      <td>5</td>\n",
              "      <td>3.8200</td>\n",
              "      <td>80.2200</td>\n",
              "      <td>3/8/2019</td>\n",
              "      <td>10:29</td>\n",
              "      <td>Cash</td>\n",
              "      <td>76.40</td>\n",
              "      <td>4.761905</td>\n",
              "      <td>3.8200</td>\n",
              "      <td>9.6</td>\n",
              "    </tr>\n",
              "    <tr>\n",
              "      <th>2</th>\n",
              "      <td>631-41-3108</td>\n",
              "      <td>A</td>\n",
              "      <td>Yangon</td>\n",
              "      <td>Normal</td>\n",
              "      <td>Male</td>\n",
              "      <td>Home and lifestyle</td>\n",
              "      <td>46.33</td>\n",
              "      <td>7</td>\n",
              "      <td>16.2155</td>\n",
              "      <td>340.5255</td>\n",
              "      <td>3/3/2019</td>\n",
              "      <td>13:23</td>\n",
              "      <td>Credit card</td>\n",
              "      <td>324.31</td>\n",
              "      <td>4.761905</td>\n",
              "      <td>16.2155</td>\n",
              "      <td>7.4</td>\n",
              "    </tr>\n",
              "    <tr>\n",
              "      <th>3</th>\n",
              "      <td>123-19-1176</td>\n",
              "      <td>A</td>\n",
              "      <td>Yangon</td>\n",
              "      <td>Member</td>\n",
              "      <td>Male</td>\n",
              "      <td>Health and beauty</td>\n",
              "      <td>58.22</td>\n",
              "      <td>8</td>\n",
              "      <td>23.2880</td>\n",
              "      <td>489.0480</td>\n",
              "      <td>1/27/2019</td>\n",
              "      <td>20:33</td>\n",
              "      <td>Ewallet</td>\n",
              "      <td>465.76</td>\n",
              "      <td>4.761905</td>\n",
              "      <td>23.2880</td>\n",
              "      <td>8.4</td>\n",
              "    </tr>\n",
              "    <tr>\n",
              "      <th>4</th>\n",
              "      <td>373-73-7910</td>\n",
              "      <td>A</td>\n",
              "      <td>Yangon</td>\n",
              "      <td>Normal</td>\n",
              "      <td>Male</td>\n",
              "      <td>Sports and travel</td>\n",
              "      <td>86.31</td>\n",
              "      <td>7</td>\n",
              "      <td>30.2085</td>\n",
              "      <td>634.3785</td>\n",
              "      <td>2/8/2019</td>\n",
              "      <td>10:37</td>\n",
              "      <td>Ewallet</td>\n",
              "      <td>604.17</td>\n",
              "      <td>4.761905</td>\n",
              "      <td>30.2085</td>\n",
              "      <td>5.3</td>\n",
              "    </tr>\n",
              "  </tbody>\n",
              "</table>\n",
              "</div>\n",
              "    <div class=\"colab-df-buttons\">\n",
              "\n",
              "  <div class=\"colab-df-container\">\n",
              "    <button class=\"colab-df-convert\" onclick=\"convertToInteractive('df-6e5951ca-3f1a-4c35-9e73-f38e8e0d5053')\"\n",
              "            title=\"Convert this dataframe to an interactive table.\"\n",
              "            style=\"display:none;\">\n",
              "\n",
              "  <svg xmlns=\"http://www.w3.org/2000/svg\" height=\"24px\" viewBox=\"0 -960 960 960\">\n",
              "    <path d=\"M120-120v-720h720v720H120Zm60-500h600v-160H180v160Zm220 220h160v-160H400v160Zm0 220h160v-160H400v160ZM180-400h160v-160H180v160Zm440 0h160v-160H620v160ZM180-180h160v-160H180v160Zm440 0h160v-160H620v160Z\"/>\n",
              "  </svg>\n",
              "    </button>\n",
              "\n",
              "  <style>\n",
              "    .colab-df-container {\n",
              "      display:flex;\n",
              "      gap: 12px;\n",
              "    }\n",
              "\n",
              "    .colab-df-convert {\n",
              "      background-color: #E8F0FE;\n",
              "      border: none;\n",
              "      border-radius: 50%;\n",
              "      cursor: pointer;\n",
              "      display: none;\n",
              "      fill: #1967D2;\n",
              "      height: 32px;\n",
              "      padding: 0 0 0 0;\n",
              "      width: 32px;\n",
              "    }\n",
              "\n",
              "    .colab-df-convert:hover {\n",
              "      background-color: #E2EBFA;\n",
              "      box-shadow: 0px 1px 2px rgba(60, 64, 67, 0.3), 0px 1px 3px 1px rgba(60, 64, 67, 0.15);\n",
              "      fill: #174EA6;\n",
              "    }\n",
              "\n",
              "    .colab-df-buttons div {\n",
              "      margin-bottom: 4px;\n",
              "    }\n",
              "\n",
              "    [theme=dark] .colab-df-convert {\n",
              "      background-color: #3B4455;\n",
              "      fill: #D2E3FC;\n",
              "    }\n",
              "\n",
              "    [theme=dark] .colab-df-convert:hover {\n",
              "      background-color: #434B5C;\n",
              "      box-shadow: 0px 1px 3px 1px rgba(0, 0, 0, 0.15);\n",
              "      filter: drop-shadow(0px 1px 2px rgba(0, 0, 0, 0.3));\n",
              "      fill: #FFFFFF;\n",
              "    }\n",
              "  </style>\n",
              "\n",
              "    <script>\n",
              "      const buttonEl =\n",
              "        document.querySelector('#df-6e5951ca-3f1a-4c35-9e73-f38e8e0d5053 button.colab-df-convert');\n",
              "      buttonEl.style.display =\n",
              "        google.colab.kernel.accessAllowed ? 'block' : 'none';\n",
              "\n",
              "      async function convertToInteractive(key) {\n",
              "        const element = document.querySelector('#df-6e5951ca-3f1a-4c35-9e73-f38e8e0d5053');\n",
              "        const dataTable =\n",
              "          await google.colab.kernel.invokeFunction('convertToInteractive',\n",
              "                                                    [key], {});\n",
              "        if (!dataTable) return;\n",
              "\n",
              "        const docLinkHtml = 'Like what you see? Visit the ' +\n",
              "          '<a target=\"_blank\" href=https://colab.research.google.com/notebooks/data_table.ipynb>data table notebook</a>'\n",
              "          + ' to learn more about interactive tables.';\n",
              "        element.innerHTML = '';\n",
              "        dataTable['output_type'] = 'display_data';\n",
              "        await google.colab.output.renderOutput(dataTable, element);\n",
              "        const docLink = document.createElement('div');\n",
              "        docLink.innerHTML = docLinkHtml;\n",
              "        element.appendChild(docLink);\n",
              "      }\n",
              "    </script>\n",
              "  </div>\n",
              "\n",
              "\n",
              "<div id=\"df-b6449d3c-de33-4f59-94b7-4c9033aee58a\">\n",
              "  <button class=\"colab-df-quickchart\" onclick=\"quickchart('df-b6449d3c-de33-4f59-94b7-4c9033aee58a')\"\n",
              "            title=\"Suggest charts\"\n",
              "            style=\"display:none;\">\n",
              "\n",
              "<svg xmlns=\"http://www.w3.org/2000/svg\" height=\"24px\"viewBox=\"0 0 24 24\"\n",
              "     width=\"24px\">\n",
              "    <g>\n",
              "        <path d=\"M19 3H5c-1.1 0-2 .9-2 2v14c0 1.1.9 2 2 2h14c1.1 0 2-.9 2-2V5c0-1.1-.9-2-2-2zM9 17H7v-7h2v7zm4 0h-2V7h2v10zm4 0h-2v-4h2v4z\"/>\n",
              "    </g>\n",
              "</svg>\n",
              "  </button>\n",
              "\n",
              "<style>\n",
              "  .colab-df-quickchart {\n",
              "      --bg-color: #E8F0FE;\n",
              "      --fill-color: #1967D2;\n",
              "      --hover-bg-color: #E2EBFA;\n",
              "      --hover-fill-color: #174EA6;\n",
              "      --disabled-fill-color: #AAA;\n",
              "      --disabled-bg-color: #DDD;\n",
              "  }\n",
              "\n",
              "  [theme=dark] .colab-df-quickchart {\n",
              "      --bg-color: #3B4455;\n",
              "      --fill-color: #D2E3FC;\n",
              "      --hover-bg-color: #434B5C;\n",
              "      --hover-fill-color: #FFFFFF;\n",
              "      --disabled-bg-color: #3B4455;\n",
              "      --disabled-fill-color: #666;\n",
              "  }\n",
              "\n",
              "  .colab-df-quickchart {\n",
              "    background-color: var(--bg-color);\n",
              "    border: none;\n",
              "    border-radius: 50%;\n",
              "    cursor: pointer;\n",
              "    display: none;\n",
              "    fill: var(--fill-color);\n",
              "    height: 32px;\n",
              "    padding: 0;\n",
              "    width: 32px;\n",
              "  }\n",
              "\n",
              "  .colab-df-quickchart:hover {\n",
              "    background-color: var(--hover-bg-color);\n",
              "    box-shadow: 0 1px 2px rgba(60, 64, 67, 0.3), 0 1px 3px 1px rgba(60, 64, 67, 0.15);\n",
              "    fill: var(--button-hover-fill-color);\n",
              "  }\n",
              "\n",
              "  .colab-df-quickchart-complete:disabled,\n",
              "  .colab-df-quickchart-complete:disabled:hover {\n",
              "    background-color: var(--disabled-bg-color);\n",
              "    fill: var(--disabled-fill-color);\n",
              "    box-shadow: none;\n",
              "  }\n",
              "\n",
              "  .colab-df-spinner {\n",
              "    border: 2px solid var(--fill-color);\n",
              "    border-color: transparent;\n",
              "    border-bottom-color: var(--fill-color);\n",
              "    animation:\n",
              "      spin 1s steps(1) infinite;\n",
              "  }\n",
              "\n",
              "  @keyframes spin {\n",
              "    0% {\n",
              "      border-color: transparent;\n",
              "      border-bottom-color: var(--fill-color);\n",
              "      border-left-color: var(--fill-color);\n",
              "    }\n",
              "    20% {\n",
              "      border-color: transparent;\n",
              "      border-left-color: var(--fill-color);\n",
              "      border-top-color: var(--fill-color);\n",
              "    }\n",
              "    30% {\n",
              "      border-color: transparent;\n",
              "      border-left-color: var(--fill-color);\n",
              "      border-top-color: var(--fill-color);\n",
              "      border-right-color: var(--fill-color);\n",
              "    }\n",
              "    40% {\n",
              "      border-color: transparent;\n",
              "      border-right-color: var(--fill-color);\n",
              "      border-top-color: var(--fill-color);\n",
              "    }\n",
              "    60% {\n",
              "      border-color: transparent;\n",
              "      border-right-color: var(--fill-color);\n",
              "    }\n",
              "    80% {\n",
              "      border-color: transparent;\n",
              "      border-right-color: var(--fill-color);\n",
              "      border-bottom-color: var(--fill-color);\n",
              "    }\n",
              "    90% {\n",
              "      border-color: transparent;\n",
              "      border-bottom-color: var(--fill-color);\n",
              "    }\n",
              "  }\n",
              "</style>\n",
              "\n",
              "  <script>\n",
              "    async function quickchart(key) {\n",
              "      const quickchartButtonEl =\n",
              "        document.querySelector('#' + key + ' button');\n",
              "      quickchartButtonEl.disabled = true;  // To prevent multiple clicks.\n",
              "      quickchartButtonEl.classList.add('colab-df-spinner');\n",
              "      try {\n",
              "        const charts = await google.colab.kernel.invokeFunction(\n",
              "            'suggestCharts', [key], {});\n",
              "      } catch (error) {\n",
              "        console.error('Error during call to suggestCharts:', error);\n",
              "      }\n",
              "      quickchartButtonEl.classList.remove('colab-df-spinner');\n",
              "      quickchartButtonEl.classList.add('colab-df-quickchart-complete');\n",
              "    }\n",
              "    (() => {\n",
              "      let quickchartButtonEl =\n",
              "        document.querySelector('#df-b6449d3c-de33-4f59-94b7-4c9033aee58a button');\n",
              "      quickchartButtonEl.style.display =\n",
              "        google.colab.kernel.accessAllowed ? 'block' : 'none';\n",
              "    })();\n",
              "  </script>\n",
              "</div>\n",
              "    </div>\n",
              "  </div>\n"
            ],
            "application/vnd.google.colaboratory.intrinsic+json": {
              "type": "dataframe",
              "variable_name": "df",
              "repr_error": "'str' object has no attribute 'empty'"
            }
          },
          "metadata": {},
          "execution_count": 8
        }
      ],
      "source": [
        "df = pd.read_csv('supermarket_sales.csv')\n",
        "df.head()"
      ]
    },
    {
      "cell_type": "markdown",
      "source": [
        "##**Describe Data**"
      ],
      "metadata": {
        "id": "-hy6_uvIVOGH"
      }
    },
    {
      "cell_type": "markdown",
      "source": [
        "####Informasi Dasar"
      ],
      "metadata": {
        "id": "nl6nccPmUZ6F"
      }
    },
    {
      "cell_type": "code",
      "source": [
        "df.shape"
      ],
      "metadata": {
        "colab": {
          "base_uri": "https://localhost:8080/"
        },
        "id": "-Lwnf_9LUtB7",
        "outputId": "4c97da1e-28a8-4b85-8f2a-e4ee1529961e"
      },
      "execution_count": null,
      "outputs": [
        {
          "output_type": "execute_result",
          "data": {
            "text/plain": [
              "(1000, 17)"
            ]
          },
          "metadata": {},
          "execution_count": 22
        }
      ]
    },
    {
      "cell_type": "markdown",
      "source": [
        "Pada dataset supermarket sales memiliki 1000 baris data dan 17 kolom yang menyediakan informasi yang cukup untuk menganalisis tren produk,perilaku pelanggan dan dinamika ritel.Dalam 17 kolom tersebut memiliki informasi berbeda pada setiap kolom."
      ],
      "metadata": {
        "id": "ZwH62IRTVXNL"
      }
    },
    {
      "cell_type": "markdown",
      "source": [
        "####Informasi Lanjutan"
      ],
      "metadata": {
        "id": "BXEzaPAHVMPd"
      }
    },
    {
      "cell_type": "code",
      "source": [
        "df.info()"
      ],
      "metadata": {
        "colab": {
          "base_uri": "https://localhost:8080/"
        },
        "id": "dIkvsNoiM2B-",
        "outputId": "fee929be-63a4-4737-8717-cfb1abba521a"
      },
      "execution_count": null,
      "outputs": [
        {
          "output_type": "stream",
          "name": "stdout",
          "text": [
            "<class 'pandas.core.frame.DataFrame'>\n",
            "RangeIndex: 1000 entries, 0 to 999\n",
            "Data columns (total 17 columns):\n",
            " #   Column                   Non-Null Count  Dtype  \n",
            "---  ------                   --------------  -----  \n",
            " 0   Invoice ID               1000 non-null   object \n",
            " 1   Branch                   1000 non-null   object \n",
            " 2   City                     1000 non-null   object \n",
            " 3   Customer type            1000 non-null   object \n",
            " 4   Gender                   1000 non-null   object \n",
            " 5   Product line             1000 non-null   object \n",
            " 6   Unit price               1000 non-null   float64\n",
            " 7   Quantity                 1000 non-null   int64  \n",
            " 8   Tax 5%                   1000 non-null   float64\n",
            " 9   Total                    1000 non-null   float64\n",
            " 10  Date                     1000 non-null   object \n",
            " 11  Time                     1000 non-null   object \n",
            " 12  Payment                  1000 non-null   object \n",
            " 13  cogs                     1000 non-null   float64\n",
            " 14  gross margin percentage  1000 non-null   float64\n",
            " 15  gross income             1000 non-null   float64\n",
            " 16  Rating                   1000 non-null   float64\n",
            "dtypes: float64(7), int64(1), object(9)\n",
            "memory usage: 132.9+ KB\n"
          ]
        }
      ]
    },
    {
      "cell_type": "markdown",
      "source": [
        "**Invoice ID** : Kolom Invoice ID untuk pengidentifikasi unik untuk setiap faktur atau transaksi.Memiliki 1000 baris dengan tipe data object yang merujuk pada string atau teks dalam struktur data pandas.\n",
        "\n",
        "\n",
        "**Branch** : Kolom Branch untuk cabang atau lokasi terjadinya transaksi.Memiliki 1000 baris dengan tipe data object yang merujuk pada string atau teks.\n",
        "\n",
        "\n",
        "**City** : Kolom City untuk kota dimana tempat cabang berada.Memiliki 1000 baris dengan tipe data object yang merujuk pada string atau teks.\n",
        "\n",
        "\n",
        "**Customer Type** : Kolom Customer Type untuk menunjukkan apakah pelanggan tersebut merupakan pelanggan tetap atau pelanggan baru.Memiliki 1000 baris dengan tipe data object yang merujuk pada string atau teks.\n",
        "\n",
        "**Gender** : Memiliki 1000 baris dengan tipe data object atau string yang merepresentasikan jenis kelamin pelanggan.\n",
        "\n",
        "\n",
        "**Product Line** : Memiliki 1000 baris dengan tipe data object atau string untuk kategori atau jenis produk yang dibeli oleh pelanggan.\n",
        "\n",
        "\n",
        "**Unit Price** : Kolom Unit Price untuk harga satuan pada produk.Memiliki 1000 baris dengan tipe data float64,ini berarti bahwa nilai-nilai kolom direpresentasikan sebagai floating point numbers atau bilangan pecahan dengan 64-bit.\n",
        "\n",
        "\n",
        "**Quantity** : Kolom Quantity untuk jumlah unit produk yang dibeli.Memiliki 1000 baris dengan tipe data int64,nilai-nilai pada kolom ini adalah bilangan bulat atau integer yang diwakili dalam format 64-bit.\n",
        "\n",
        "**Tax 5%** : Kolom ini untuk jumlah pajak (5% dari total biaya) yang dikenakan pada setiap transaksi.Memiliki 1000 baris dengan tipe data float64,ini berarti nilai-nilai kolom disimpan adalah nilai numerik(desimal) dan dapat berupa bilangan pecahan atau bulat.\n",
        "\n",
        "\n",
        "**Total** : Kolom Total untuk total biaya transaksi termasuk pajak.Memiliki 1000 baris dengan tipe data float64,berarti nilai-nilai kolom disimpan adalah nilai bilangan pecahan dengan presisi 64-bit dalam representasi biner.\n",
        "\n",
        "\n",
        "**Date** : Kolom Date untuk tanggal terjadinya transaksi.Memiliki 1000 baris dengan tipe data object atau string yang merujuk pada string atau teks.\n",
        "\n",
        "\n",
        "**Time** : Kolom ini untuk waktu terjadinya transaksi.Memiliki 1000 baris dengan tipe data object atau string yang merujuk pada string atau teks.\n",
        "\n",
        "\n",
        "**Payment** : Kolom Payment untuk Metode pembayaran yang digunakan seperti kartu kredit atau tunai.Memiliki 1000 baris dengan tipe data object atau string yang merujuk pada string atau teks.\n",
        "\n",
        "\n",
        "**Cogs** : Kolom Cogs (Cost of Goods Sold) ini untuk biaya langsung yang terkait dengan produksi atau pembelian produk yang dijual.Memiliki 1000 baris dengan tipe data float64,ini berarti nilai-nilai kolom disimpan adalah angka desimal dengan presisi ganda menggunakan 64-bit.\n",
        "\n",
        "**Gross Margin Pertcentage** : Kolom ini untuk Presentase margin keuntungan untuk transaksi.Memiliki 1000 baris dengan tipe data float64,ini berarti nilai-nilai kolom disimpan adalah angka desimal.\n",
        "\n",
        "\n",
        "**Gross Income** : Kolom Gross Income(pendapatan kotor) untuk total keuntungan yang diperoleh dari transaksi.Memiliki 1000 baris dengan tipe data float64,nilai-nilai kolom disimpan adalah bilangan pecahan dengan presisi 64-bit dan bisa juga memiliki bagian desimal.\n",
        "\n",
        "\n",
        "**Rating** : Kolom ini untuk peringkat kepuasan pelanggan atau umpan balik atas transaksi.emiliki 1000 baris dengan tipe data float64,nilai-nilai kolom disimpan dapat memiliki nilai desimal.\n",
        "\n",
        "\n",
        "\n",
        "\n",
        "\n"
      ],
      "metadata": {
        "id": "-6miym5GVbaC"
      }
    },
    {
      "cell_type": "markdown",
      "source": [
        "####Informasi Statistik Deskriptif"
      ],
      "metadata": {
        "id": "D5GD3qzXVrF5"
      }
    },
    {
      "cell_type": "code",
      "source": [
        "df.describe()"
      ],
      "metadata": {
        "id": "rHdqc2OkVuPC",
        "colab": {
          "base_uri": "https://localhost:8080/",
          "height": 335
        },
        "outputId": "2f02e2bd-4591-4635-8446-5e1e1adaef90"
      },
      "execution_count": null,
      "outputs": [
        {
          "output_type": "execute_result",
          "data": {
            "text/plain": [
              "        Unit price     Quantity       Tax 5%        Total        cogs  \\\n",
              "count  1000.000000  1000.000000  1000.000000  1000.000000  1000.00000   \n",
              "mean     55.672130     5.510000    15.379369   322.966749   307.58738   \n",
              "std      26.494628     2.923431    11.708825   245.885335   234.17651   \n",
              "min      10.080000     1.000000     0.508500    10.678500    10.17000   \n",
              "25%      32.875000     3.000000     5.924875   124.422375   118.49750   \n",
              "50%      55.230000     5.000000    12.088000   253.848000   241.76000   \n",
              "75%      77.935000     8.000000    22.445250   471.350250   448.90500   \n",
              "max      99.960000    10.000000    49.650000  1042.650000   993.00000   \n",
              "\n",
              "       gross margin percentage  gross income      Rating  \n",
              "count              1000.000000   1000.000000  1000.00000  \n",
              "mean                  4.761905     15.379369     6.97270  \n",
              "std                   0.000000     11.708825     1.71858  \n",
              "min                   4.761905      0.508500     4.00000  \n",
              "25%                   4.761905      5.924875     5.50000  \n",
              "50%                   4.761905     12.088000     7.00000  \n",
              "75%                   4.761905     22.445250     8.50000  \n",
              "max                   4.761905     49.650000    10.00000  "
            ],
            "text/html": [
              "\n",
              "  <div id=\"df-0ba9adfa-5e8e-40a6-b9b2-3fcc838ee965\" class=\"colab-df-container\">\n",
              "    <div>\n",
              "<style scoped>\n",
              "    .dataframe tbody tr th:only-of-type {\n",
              "        vertical-align: middle;\n",
              "    }\n",
              "\n",
              "    .dataframe tbody tr th {\n",
              "        vertical-align: top;\n",
              "    }\n",
              "\n",
              "    .dataframe thead th {\n",
              "        text-align: right;\n",
              "    }\n",
              "</style>\n",
              "<table border=\"1\" class=\"dataframe\">\n",
              "  <thead>\n",
              "    <tr style=\"text-align: right;\">\n",
              "      <th></th>\n",
              "      <th>Unit price</th>\n",
              "      <th>Quantity</th>\n",
              "      <th>Tax 5%</th>\n",
              "      <th>Total</th>\n",
              "      <th>cogs</th>\n",
              "      <th>gross margin percentage</th>\n",
              "      <th>gross income</th>\n",
              "      <th>Rating</th>\n",
              "    </tr>\n",
              "  </thead>\n",
              "  <tbody>\n",
              "    <tr>\n",
              "      <th>count</th>\n",
              "      <td>1000.000000</td>\n",
              "      <td>1000.000000</td>\n",
              "      <td>1000.000000</td>\n",
              "      <td>1000.000000</td>\n",
              "      <td>1000.00000</td>\n",
              "      <td>1000.000000</td>\n",
              "      <td>1000.000000</td>\n",
              "      <td>1000.00000</td>\n",
              "    </tr>\n",
              "    <tr>\n",
              "      <th>mean</th>\n",
              "      <td>55.672130</td>\n",
              "      <td>5.510000</td>\n",
              "      <td>15.379369</td>\n",
              "      <td>322.966749</td>\n",
              "      <td>307.58738</td>\n",
              "      <td>4.761905</td>\n",
              "      <td>15.379369</td>\n",
              "      <td>6.97270</td>\n",
              "    </tr>\n",
              "    <tr>\n",
              "      <th>std</th>\n",
              "      <td>26.494628</td>\n",
              "      <td>2.923431</td>\n",
              "      <td>11.708825</td>\n",
              "      <td>245.885335</td>\n",
              "      <td>234.17651</td>\n",
              "      <td>0.000000</td>\n",
              "      <td>11.708825</td>\n",
              "      <td>1.71858</td>\n",
              "    </tr>\n",
              "    <tr>\n",
              "      <th>min</th>\n",
              "      <td>10.080000</td>\n",
              "      <td>1.000000</td>\n",
              "      <td>0.508500</td>\n",
              "      <td>10.678500</td>\n",
              "      <td>10.17000</td>\n",
              "      <td>4.761905</td>\n",
              "      <td>0.508500</td>\n",
              "      <td>4.00000</td>\n",
              "    </tr>\n",
              "    <tr>\n",
              "      <th>25%</th>\n",
              "      <td>32.875000</td>\n",
              "      <td>3.000000</td>\n",
              "      <td>5.924875</td>\n",
              "      <td>124.422375</td>\n",
              "      <td>118.49750</td>\n",
              "      <td>4.761905</td>\n",
              "      <td>5.924875</td>\n",
              "      <td>5.50000</td>\n",
              "    </tr>\n",
              "    <tr>\n",
              "      <th>50%</th>\n",
              "      <td>55.230000</td>\n",
              "      <td>5.000000</td>\n",
              "      <td>12.088000</td>\n",
              "      <td>253.848000</td>\n",
              "      <td>241.76000</td>\n",
              "      <td>4.761905</td>\n",
              "      <td>12.088000</td>\n",
              "      <td>7.00000</td>\n",
              "    </tr>\n",
              "    <tr>\n",
              "      <th>75%</th>\n",
              "      <td>77.935000</td>\n",
              "      <td>8.000000</td>\n",
              "      <td>22.445250</td>\n",
              "      <td>471.350250</td>\n",
              "      <td>448.90500</td>\n",
              "      <td>4.761905</td>\n",
              "      <td>22.445250</td>\n",
              "      <td>8.50000</td>\n",
              "    </tr>\n",
              "    <tr>\n",
              "      <th>max</th>\n",
              "      <td>99.960000</td>\n",
              "      <td>10.000000</td>\n",
              "      <td>49.650000</td>\n",
              "      <td>1042.650000</td>\n",
              "      <td>993.00000</td>\n",
              "      <td>4.761905</td>\n",
              "      <td>49.650000</td>\n",
              "      <td>10.00000</td>\n",
              "    </tr>\n",
              "  </tbody>\n",
              "</table>\n",
              "</div>\n",
              "    <div class=\"colab-df-buttons\">\n",
              "\n",
              "  <div class=\"colab-df-container\">\n",
              "    <button class=\"colab-df-convert\" onclick=\"convertToInteractive('df-0ba9adfa-5e8e-40a6-b9b2-3fcc838ee965')\"\n",
              "            title=\"Convert this dataframe to an interactive table.\"\n",
              "            style=\"display:none;\">\n",
              "\n",
              "  <svg xmlns=\"http://www.w3.org/2000/svg\" height=\"24px\" viewBox=\"0 -960 960 960\">\n",
              "    <path d=\"M120-120v-720h720v720H120Zm60-500h600v-160H180v160Zm220 220h160v-160H400v160Zm0 220h160v-160H400v160ZM180-400h160v-160H180v160Zm440 0h160v-160H620v160ZM180-180h160v-160H180v160Zm440 0h160v-160H620v160Z\"/>\n",
              "  </svg>\n",
              "    </button>\n",
              "\n",
              "  <style>\n",
              "    .colab-df-container {\n",
              "      display:flex;\n",
              "      gap: 12px;\n",
              "    }\n",
              "\n",
              "    .colab-df-convert {\n",
              "      background-color: #E8F0FE;\n",
              "      border: none;\n",
              "      border-radius: 50%;\n",
              "      cursor: pointer;\n",
              "      display: none;\n",
              "      fill: #1967D2;\n",
              "      height: 32px;\n",
              "      padding: 0 0 0 0;\n",
              "      width: 32px;\n",
              "    }\n",
              "\n",
              "    .colab-df-convert:hover {\n",
              "      background-color: #E2EBFA;\n",
              "      box-shadow: 0px 1px 2px rgba(60, 64, 67, 0.3), 0px 1px 3px 1px rgba(60, 64, 67, 0.15);\n",
              "      fill: #174EA6;\n",
              "    }\n",
              "\n",
              "    .colab-df-buttons div {\n",
              "      margin-bottom: 4px;\n",
              "    }\n",
              "\n",
              "    [theme=dark] .colab-df-convert {\n",
              "      background-color: #3B4455;\n",
              "      fill: #D2E3FC;\n",
              "    }\n",
              "\n",
              "    [theme=dark] .colab-df-convert:hover {\n",
              "      background-color: #434B5C;\n",
              "      box-shadow: 0px 1px 3px 1px rgba(0, 0, 0, 0.15);\n",
              "      filter: drop-shadow(0px 1px 2px rgba(0, 0, 0, 0.3));\n",
              "      fill: #FFFFFF;\n",
              "    }\n",
              "  </style>\n",
              "\n",
              "    <script>\n",
              "      const buttonEl =\n",
              "        document.querySelector('#df-0ba9adfa-5e8e-40a6-b9b2-3fcc838ee965 button.colab-df-convert');\n",
              "      buttonEl.style.display =\n",
              "        google.colab.kernel.accessAllowed ? 'block' : 'none';\n",
              "\n",
              "      async function convertToInteractive(key) {\n",
              "        const element = document.querySelector('#df-0ba9adfa-5e8e-40a6-b9b2-3fcc838ee965');\n",
              "        const dataTable =\n",
              "          await google.colab.kernel.invokeFunction('convertToInteractive',\n",
              "                                                    [key], {});\n",
              "        if (!dataTable) return;\n",
              "\n",
              "        const docLinkHtml = 'Like what you see? Visit the ' +\n",
              "          '<a target=\"_blank\" href=https://colab.research.google.com/notebooks/data_table.ipynb>data table notebook</a>'\n",
              "          + ' to learn more about interactive tables.';\n",
              "        element.innerHTML = '';\n",
              "        dataTable['output_type'] = 'display_data';\n",
              "        await google.colab.output.renderOutput(dataTable, element);\n",
              "        const docLink = document.createElement('div');\n",
              "        docLink.innerHTML = docLinkHtml;\n",
              "        element.appendChild(docLink);\n",
              "      }\n",
              "    </script>\n",
              "  </div>\n",
              "\n",
              "\n",
              "<div id=\"df-2c6a017b-d877-4c99-833c-ec3f8544f921\">\n",
              "  <button class=\"colab-df-quickchart\" onclick=\"quickchart('df-2c6a017b-d877-4c99-833c-ec3f8544f921')\"\n",
              "            title=\"Suggest charts\"\n",
              "            style=\"display:none;\">\n",
              "\n",
              "<svg xmlns=\"http://www.w3.org/2000/svg\" height=\"24px\"viewBox=\"0 0 24 24\"\n",
              "     width=\"24px\">\n",
              "    <g>\n",
              "        <path d=\"M19 3H5c-1.1 0-2 .9-2 2v14c0 1.1.9 2 2 2h14c1.1 0 2-.9 2-2V5c0-1.1-.9-2-2-2zM9 17H7v-7h2v7zm4 0h-2V7h2v10zm4 0h-2v-4h2v4z\"/>\n",
              "    </g>\n",
              "</svg>\n",
              "  </button>\n",
              "\n",
              "<style>\n",
              "  .colab-df-quickchart {\n",
              "      --bg-color: #E8F0FE;\n",
              "      --fill-color: #1967D2;\n",
              "      --hover-bg-color: #E2EBFA;\n",
              "      --hover-fill-color: #174EA6;\n",
              "      --disabled-fill-color: #AAA;\n",
              "      --disabled-bg-color: #DDD;\n",
              "  }\n",
              "\n",
              "  [theme=dark] .colab-df-quickchart {\n",
              "      --bg-color: #3B4455;\n",
              "      --fill-color: #D2E3FC;\n",
              "      --hover-bg-color: #434B5C;\n",
              "      --hover-fill-color: #FFFFFF;\n",
              "      --disabled-bg-color: #3B4455;\n",
              "      --disabled-fill-color: #666;\n",
              "  }\n",
              "\n",
              "  .colab-df-quickchart {\n",
              "    background-color: var(--bg-color);\n",
              "    border: none;\n",
              "    border-radius: 50%;\n",
              "    cursor: pointer;\n",
              "    display: none;\n",
              "    fill: var(--fill-color);\n",
              "    height: 32px;\n",
              "    padding: 0;\n",
              "    width: 32px;\n",
              "  }\n",
              "\n",
              "  .colab-df-quickchart:hover {\n",
              "    background-color: var(--hover-bg-color);\n",
              "    box-shadow: 0 1px 2px rgba(60, 64, 67, 0.3), 0 1px 3px 1px rgba(60, 64, 67, 0.15);\n",
              "    fill: var(--button-hover-fill-color);\n",
              "  }\n",
              "\n",
              "  .colab-df-quickchart-complete:disabled,\n",
              "  .colab-df-quickchart-complete:disabled:hover {\n",
              "    background-color: var(--disabled-bg-color);\n",
              "    fill: var(--disabled-fill-color);\n",
              "    box-shadow: none;\n",
              "  }\n",
              "\n",
              "  .colab-df-spinner {\n",
              "    border: 2px solid var(--fill-color);\n",
              "    border-color: transparent;\n",
              "    border-bottom-color: var(--fill-color);\n",
              "    animation:\n",
              "      spin 1s steps(1) infinite;\n",
              "  }\n",
              "\n",
              "  @keyframes spin {\n",
              "    0% {\n",
              "      border-color: transparent;\n",
              "      border-bottom-color: var(--fill-color);\n",
              "      border-left-color: var(--fill-color);\n",
              "    }\n",
              "    20% {\n",
              "      border-color: transparent;\n",
              "      border-left-color: var(--fill-color);\n",
              "      border-top-color: var(--fill-color);\n",
              "    }\n",
              "    30% {\n",
              "      border-color: transparent;\n",
              "      border-left-color: var(--fill-color);\n",
              "      border-top-color: var(--fill-color);\n",
              "      border-right-color: var(--fill-color);\n",
              "    }\n",
              "    40% {\n",
              "      border-color: transparent;\n",
              "      border-right-color: var(--fill-color);\n",
              "      border-top-color: var(--fill-color);\n",
              "    }\n",
              "    60% {\n",
              "      border-color: transparent;\n",
              "      border-right-color: var(--fill-color);\n",
              "    }\n",
              "    80% {\n",
              "      border-color: transparent;\n",
              "      border-right-color: var(--fill-color);\n",
              "      border-bottom-color: var(--fill-color);\n",
              "    }\n",
              "    90% {\n",
              "      border-color: transparent;\n",
              "      border-bottom-color: var(--fill-color);\n",
              "    }\n",
              "  }\n",
              "</style>\n",
              "\n",
              "  <script>\n",
              "    async function quickchart(key) {\n",
              "      const quickchartButtonEl =\n",
              "        document.querySelector('#' + key + ' button');\n",
              "      quickchartButtonEl.disabled = true;  // To prevent multiple clicks.\n",
              "      quickchartButtonEl.classList.add('colab-df-spinner');\n",
              "      try {\n",
              "        const charts = await google.colab.kernel.invokeFunction(\n",
              "            'suggestCharts', [key], {});\n",
              "      } catch (error) {\n",
              "        console.error('Error during call to suggestCharts:', error);\n",
              "      }\n",
              "      quickchartButtonEl.classList.remove('colab-df-spinner');\n",
              "      quickchartButtonEl.classList.add('colab-df-quickchart-complete');\n",
              "    }\n",
              "    (() => {\n",
              "      let quickchartButtonEl =\n",
              "        document.querySelector('#df-2c6a017b-d877-4c99-833c-ec3f8544f921 button');\n",
              "      quickchartButtonEl.style.display =\n",
              "        google.colab.kernel.accessAllowed ? 'block' : 'none';\n",
              "    })();\n",
              "  </script>\n",
              "</div>\n",
              "    </div>\n",
              "  </div>\n"
            ],
            "application/vnd.google.colaboratory.intrinsic+json": {
              "type": "dataframe",
              "summary": "{\n  \"name\": \"df\",\n  \"rows\": 8,\n  \"fields\": [\n    {\n      \"column\": \"Unit price\",\n      \"properties\": {\n        \"dtype\": \"number\",\n        \"std\": 336.6846044402689,\n        \"min\": 10.08,\n        \"max\": 1000.0,\n        \"num_unique_values\": 8,\n        \"samples\": [\n          55.67213,\n          55.230000000000004,\n          1000.0\n        ],\n        \"semantic_type\": \"\",\n        \"description\": \"\"\n      }\n    },\n    {\n      \"column\": \"Quantity\",\n      \"properties\": {\n        \"dtype\": \"number\",\n        \"std\": 351.77562002282735,\n        \"min\": 1.0,\n        \"max\": 1000.0,\n        \"num_unique_values\": 8,\n        \"samples\": [\n          5.51,\n          5.0,\n          1000.0\n        ],\n        \"semantic_type\": \"\",\n        \"description\": \"\"\n      }\n    },\n    {\n      \"column\": \"Tax 5%\",\n      \"properties\": {\n        \"dtype\": \"number\",\n        \"std\": 347.92569154432533,\n        \"min\": 0.5085,\n        \"max\": 1000.0,\n        \"num_unique_values\": 8,\n        \"samples\": [\n          15.379368999999999,\n          12.088000000000001,\n          1000.0\n        ],\n        \"semantic_type\": \"\",\n        \"description\": \"\"\n      }\n    },\n    {\n      \"column\": \"Total\",\n      \"properties\": {\n        \"dtype\": \"number\",\n        \"std\": 386.82138921506845,\n        \"min\": 10.6785,\n        \"max\": 1042.65,\n        \"num_unique_values\": 8,\n        \"samples\": [\n          322.966749,\n          253.848,\n          1000.0\n        ],\n        \"semantic_type\": \"\",\n        \"description\": \"\"\n      }\n    },\n    {\n      \"column\": \"cogs\",\n      \"properties\": {\n        \"dtype\": \"number\",\n        \"std\": 378.5991082108942,\n        \"min\": 10.17,\n        \"max\": 1000.0,\n        \"num_unique_values\": 8,\n        \"samples\": [\n          307.58738,\n          241.76,\n          1000.0\n        ],\n        \"semantic_type\": \"\",\n        \"description\": \"\"\n      }\n    },\n    {\n      \"column\": \"gross margin percentage\",\n      \"properties\": {\n        \"dtype\": \"number\",\n        \"std\": 352.1142583355667,\n        \"min\": 0.0,\n        \"max\": 1000.0,\n        \"num_unique_values\": 3,\n        \"samples\": [\n          1000.0,\n          4.761904762,\n          0.0\n        ],\n        \"semantic_type\": \"\",\n        \"description\": \"\"\n      }\n    },\n    {\n      \"column\": \"gross income\",\n      \"properties\": {\n        \"dtype\": \"number\",\n        \"std\": 347.92569154432533,\n        \"min\": 0.5085,\n        \"max\": 1000.0,\n        \"num_unique_values\": 8,\n        \"samples\": [\n          15.379368999999999,\n          12.088000000000001,\n          1000.0\n        ],\n        \"semantic_type\": \"\",\n        \"description\": \"\"\n      }\n    },\n    {\n      \"column\": \"Rating\",\n      \"properties\": {\n        \"dtype\": \"number\",\n        \"std\": 351.3560741700247,\n        \"min\": 1.7185802943791215,\n        \"max\": 1000.0,\n        \"num_unique_values\": 8,\n        \"samples\": [\n          6.9727,\n          7.0,\n          1000.0\n        ],\n        \"semantic_type\": \"\",\n        \"description\": \"\"\n      }\n    }\n  ]\n}"
            }
          },
          "metadata": {},
          "execution_count": 17
        }
      ]
    },
    {
      "cell_type": "markdown",
      "source": [
        "**Unit Price**\n",
        "\n",
        "Rata -rata harga satuan adalah 55.67 , dengan harga deviasi sekitar 26.49 , Harga minimum sekitar 10.08 dan harga maksimum sekitar 99.96\n",
        "\n",
        "\n",
        "**Quantity**\n",
        "\n",
        "Rata -rata jumlah yang dibeli adalah 5.51 , dengan nilai deviasi sekitar 2.92  , jumlah produk yang terjual minimum sekitar 1 dan maksimumnya adalah 10.\n",
        "\n",
        "\n",
        "**Tax 5%**\n",
        "\n",
        "Pajak rata-rata adalah 15.38 dengan standar deviasi 11.7 , pajak berkisar dari 0.51 hinggan 49.65\n",
        "\n",
        "**Total**\n",
        "\n",
        "Rata-rata total pembelian adalah 322.97 dengan standar deviasi 245.89.Minimum total pembelian adalah 10.68 dan maksimum adalah 1042.65\n",
        "\n",
        "\n",
        "**COGS**\n",
        "\n",
        "Rata-rata cogs adalah 307.59 dengan standar deviasi sekitar 234.18 , cogs minimum 10.17 dan maksimum sekitar 993.00\n",
        "\n",
        "\n",
        "**Gross Margin Percentage**\n",
        "\n",
        "Nilainya tetap adalah 4.76% untuk semua transaksi,menunjukkan margin kotor yang tetap.Toko memiliki kebijakan harga yang konsisten.\n",
        "\n",
        "\n",
        "**Gross Income**\n",
        "\n",
        "Rata-rata pendapatan kotor adalah 15.38 dengan standar deviasi 11.71 , minimum nya adalah 0.51 dan maksimum adalah 49.65\n",
        "\n",
        "\n",
        "**Rating**\n",
        "\n",
        "Rata-rata pada rating adalah 6.97 dengan standar deviasi 1.72 , nilai minimum pada rating adalah 4.0 dan maksimum adalah 10.0\n",
        "\n"
      ],
      "metadata": {
        "id": "q_OSzaKKV28E"
      }
    },
    {
      "cell_type": "markdown",
      "source": [
        "##**Exploratory Data Analysis**"
      ],
      "metadata": {
        "id": "YVd8wfBkV9OE"
      }
    },
    {
      "cell_type": "code",
      "source": [
        "#Korelasi Pearson\n",
        "sns.heatmap(df.corr(numeric_only=True))"
      ],
      "metadata": {
        "id": "_ohZShs2Wv9r",
        "colab": {
          "base_uri": "https://localhost:8080/",
          "height": 613
        },
        "outputId": "25bdb9f3-c07b-4f5c-aad6-441eb335d6b5"
      },
      "execution_count": null,
      "outputs": [
        {
          "output_type": "execute_result",
          "data": {
            "text/plain": [
              "<Axes: >"
            ]
          },
          "metadata": {},
          "execution_count": 8
        },
        {
          "output_type": "display_data",
          "data": {
            "text/plain": [
              "<Figure size 640x480 with 2 Axes>"
            ],
            "image/png": "[encoded data removed]"
          },
          "metadata": {}
        }
      ]
    },
    {
      "cell_type": "markdown",
      "source": [
        "Kolerasi Pearson adalah metrik statistik yang mengukur seberapa erat hubungan linear antar dua variabel numerik.Nilai kolerasi berada dalam rentang -1 hingga 1.heatmap tersebut memberikan informasi tentang seberapa erat hubungan linear antara unit price,quantity,tax 5%,cogs,gross margin precentage,gross income,dan rating."
      ],
      "metadata": {
        "id": "NQdrpT8J7f9N"
      }
    },
    {
      "cell_type": "code",
      "source": [
        "#Kolerasi Kendall\n",
        "df.corr(numeric_only=True, method='kendall')"
      ],
      "metadata": {
        "colab": {
          "base_uri": "https://localhost:8080/",
          "height": 300
        },
        "id": "N1PqqtaV-nsI",
        "outputId": "64a32df7-9de6-433b-9648-45cb62fac0ed"
      },
      "execution_count": null,
      "outputs": [
        {
          "output_type": "execute_result",
          "data": {
            "text/plain": [
              "                         Unit price  Quantity    Tax 5%     Total      cogs  \\\n",
              "Unit price                 1.000000  0.007630  0.465191  0.465191  0.465191   \n",
              "Quantity                   0.007630  1.000000  0.571445  0.571445  0.571445   \n",
              "Tax 5%                     0.465191  0.571445  1.000000  1.000000  1.000000   \n",
              "Total                      0.465191  0.571445  1.000000  1.000000  1.000000   \n",
              "cogs                       0.465191  0.571445  1.000000  1.000000  1.000000   \n",
              "gross margin percentage         NaN       NaN       NaN       NaN       NaN   \n",
              "gross income               0.465191  0.571445  1.000000  1.000000  1.000000   \n",
              "Rating                    -0.005896 -0.010218 -0.010785 -0.010785 -0.010785   \n",
              "\n",
              "                         gross margin percentage  gross income    Rating  \n",
              "Unit price                                   NaN      0.465191 -0.005896  \n",
              "Quantity                                     NaN      0.571445 -0.010218  \n",
              "Tax 5%                                       NaN      1.000000 -0.010785  \n",
              "Total                                        NaN      1.000000 -0.010785  \n",
              "cogs                                         NaN      1.000000 -0.010785  \n",
              "gross margin percentage                      1.0           NaN       NaN  \n",
              "gross income                                 NaN      1.000000 -0.010785  \n",
              "Rating                                       NaN     -0.010785  1.000000  "
            ],
            "text/html": [
              "\n",
              "  <div id=\"df-cb95edeb-84bd-4296-8e5f-30b7ff6bd850\" class=\"colab-df-container\">\n",
              "    <div>\n",
              "<style scoped>\n",
              "    .dataframe tbody tr th:only-of-type {\n",
              "        vertical-align: middle;\n",
              "    }\n",
              "\n",
              "    .dataframe tbody tr th {\n",
              "        vertical-align: top;\n",
              "    }\n",
              "\n",
              "    .dataframe thead th {\n",
              "        text-align: right;\n",
              "    }\n",
              "</style>\n",
              "<table border=\"1\" class=\"dataframe\">\n",
              "  <thead>\n",
              "    <tr style=\"text-align: right;\">\n",
              "      <th></th>\n",
              "      <th>Unit price</th>\n",
              "      <th>Quantity</th>\n",
              "      <th>Tax 5%</th>\n",
              "      <th>Total</th>\n",
              "      <th>cogs</th>\n",
              "      <th>gross margin percentage</th>\n",
              "      <th>gross income</th>\n",
              "      <th>Rating</th>\n",
              "    </tr>\n",
              "  </thead>\n",
              "  <tbody>\n",
              "    <tr>\n",
              "      <th>Unit price</th>\n",
              "      <td>1.000000</td>\n",
              "      <td>0.007630</td>\n",
              "      <td>0.465191</td>\n",
              "      <td>0.465191</td>\n",
              "      <td>0.465191</td>\n",
              "      <td>NaN</td>\n",
              "      <td>0.465191</td>\n",
              "      <td>-0.005896</td>\n",
              "    </tr>\n",
              "    <tr>\n",
              "      <th>Quantity</th>\n",
              "      <td>0.007630</td>\n",
              "      <td>1.000000</td>\n",
              "      <td>0.571445</td>\n",
              "      <td>0.571445</td>\n",
              "      <td>0.571445</td>\n",
              "      <td>NaN</td>\n",
              "      <td>0.571445</td>\n",
              "      <td>-0.010218</td>\n",
              "    </tr>\n",
              "    <tr>\n",
              "      <th>Tax 5%</th>\n",
              "      <td>0.465191</td>\n",
              "      <td>0.571445</td>\n",
              "      <td>1.000000</td>\n",
              "      <td>1.000000</td>\n",
              "      <td>1.000000</td>\n",
              "      <td>NaN</td>\n",
              "      <td>1.000000</td>\n",
              "      <td>-0.010785</td>\n",
              "    </tr>\n",
              "    <tr>\n",
              "      <th>Total</th>\n",
              "      <td>0.465191</td>\n",
              "      <td>0.571445</td>\n",
              "      <td>1.000000</td>\n",
              "      <td>1.000000</td>\n",
              "      <td>1.000000</td>\n",
              "      <td>NaN</td>\n",
              "      <td>1.000000</td>\n",
              "      <td>-0.010785</td>\n",
              "    </tr>\n",
              "    <tr>\n",
              "      <th>cogs</th>\n",
              "      <td>0.465191</td>\n",
              "      <td>0.571445</td>\n",
              "      <td>1.000000</td>\n",
              "      <td>1.000000</td>\n",
              "      <td>1.000000</td>\n",
              "      <td>NaN</td>\n",
              "      <td>1.000000</td>\n",
              "      <td>-0.010785</td>\n",
              "    </tr>\n",
              "    <tr>\n",
              "      <th>gross margin percentage</th>\n",
              "      <td>NaN</td>\n",
              "      <td>NaN</td>\n",
              "      <td>NaN</td>\n",
              "      <td>NaN</td>\n",
              "      <td>NaN</td>\n",
              "      <td>1.0</td>\n",
              "      <td>NaN</td>\n",
              "      <td>NaN</td>\n",
              "    </tr>\n",
              "    <tr>\n",
              "      <th>gross income</th>\n",
              "      <td>0.465191</td>\n",
              "      <td>0.571445</td>\n",
              "      <td>1.000000</td>\n",
              "      <td>1.000000</td>\n",
              "      <td>1.000000</td>\n",
              "      <td>NaN</td>\n",
              "      <td>1.000000</td>\n",
              "      <td>-0.010785</td>\n",
              "    </tr>\n",
              "    <tr>\n",
              "      <th>Rating</th>\n",
              "      <td>-0.005896</td>\n",
              "      <td>-0.010218</td>\n",
              "      <td>-0.010785</td>\n",
              "      <td>-0.010785</td>\n",
              "      <td>-0.010785</td>\n",
              "      <td>NaN</td>\n",
              "      <td>-0.010785</td>\n",
              "      <td>1.000000</td>\n",
              "    </tr>\n",
              "  </tbody>\n",
              "</table>\n",
              "</div>\n",
              "    <div class=\"colab-df-buttons\">\n",
              "\n",
              "  <div class=\"colab-df-container\">\n",
              "    <button class=\"colab-df-convert\" onclick=\"convertToInteractive('df-cb95edeb-84bd-4296-8e5f-30b7ff6bd850')\"\n",
              "            title=\"Convert this dataframe to an interactive table.\"\n",
              "            style=\"display:none;\">\n",
              "\n",
              "  <svg xmlns=\"http://www.w3.org/2000/svg\" height=\"24px\" viewBox=\"0 -960 960 960\">\n",
              "    <path d=\"M120-120v-720h720v720H120Zm60-500h600v-160H180v160Zm220 220h160v-160H400v160Zm0 220h160v-160H400v160ZM180-400h160v-160H180v160Zm440 0h160v-160H620v160ZM180-180h160v-160H180v160Zm440 0h160v-160H620v160Z\"/>\n",
              "  </svg>\n",
              "    </button>\n",
              "\n",
              "  <style>\n",
              "    .colab-df-container {\n",
              "      display:flex;\n",
              "      gap: 12px;\n",
              "    }\n",
              "\n",
              "    .colab-df-convert {\n",
              "      background-color: #E8F0FE;\n",
              "      border: none;\n",
              "      border-radius: 50%;\n",
              "      cursor: pointer;\n",
              "      display: none;\n",
              "      fill: #1967D2;\n",
              "      height: 32px;\n",
              "      padding: 0 0 0 0;\n",
              "      width: 32px;\n",
              "    }\n",
              "\n",
              "    .colab-df-convert:hover {\n",
              "      background-color: #E2EBFA;\n",
              "      box-shadow: 0px 1px 2px rgba(60, 64, 67, 0.3), 0px 1px 3px 1px rgba(60, 64, 67, 0.15);\n",
              "      fill: #174EA6;\n",
              "    }\n",
              "\n",
              "    .colab-df-buttons div {\n",
              "      margin-bottom: 4px;\n",
              "    }\n",
              "\n",
              "    [theme=dark] .colab-df-convert {\n",
              "      background-color: #3B4455;\n",
              "      fill: #D2E3FC;\n",
              "    }\n",
              "\n",
              "    [theme=dark] .colab-df-convert:hover {\n",
              "      background-color: #434B5C;\n",
              "      box-shadow: 0px 1px 3px 1px rgba(0, 0, 0, 0.15);\n",
              "      filter: drop-shadow(0px 1px 2px rgba(0, 0, 0, 0.3));\n",
              "      fill: #FFFFFF;\n",
              "    }\n",
              "  </style>\n",
              "\n",
              "    <script>\n",
              "      const buttonEl =\n",
              "        document.querySelector('#df-cb95edeb-84bd-4296-8e5f-30b7ff6bd850 button.colab-df-convert');\n",
              "      buttonEl.style.display =\n",
              "        google.colab.kernel.accessAllowed ? 'block' : 'none';\n",
              "\n",
              "      async function convertToInteractive(key) {\n",
              "        const element = document.querySelector('#df-cb95edeb-84bd-4296-8e5f-30b7ff6bd850');\n",
              "        const dataTable =\n",
              "          await google.colab.kernel.invokeFunction('convertToInteractive',\n",
              "                                                    [key], {});\n",
              "        if (!dataTable) return;\n",
              "\n",
              "        const docLinkHtml = 'Like what you see? Visit the ' +\n",
              "          '<a target=\"_blank\" href=https://colab.research.google.com/notebooks/data_table.ipynb>data table notebook</a>'\n",
              "          + ' to learn more about interactive tables.';\n",
              "        element.innerHTML = '';\n",
              "        dataTable['output_type'] = 'display_data';\n",
              "        await google.colab.output.renderOutput(dataTable, element);\n",
              "        const docLink = document.createElement('div');\n",
              "        docLink.innerHTML = docLinkHtml;\n",
              "        element.appendChild(docLink);\n",
              "      }\n",
              "    </script>\n",
              "  </div>\n",
              "\n",
              "\n",
              "<div id=\"df-90218ca7-ede2-43a5-8595-bcfb5ef55802\">\n",
              "  <button class=\"colab-df-quickchart\" onclick=\"quickchart('df-90218ca7-ede2-43a5-8595-bcfb5ef55802')\"\n",
              "            title=\"Suggest charts\"\n",
              "            style=\"display:none;\">\n",
              "\n",
              "<svg xmlns=\"http://www.w3.org/2000/svg\" height=\"24px\"viewBox=\"0 0 24 24\"\n",
              "     width=\"24px\">\n",
              "    <g>\n",
              "        <path d=\"M19 3H5c-1.1 0-2 .9-2 2v14c0 1.1.9 2 2 2h14c1.1 0 2-.9 2-2V5c0-1.1-.9-2-2-2zM9 17H7v-7h2v7zm4 0h-2V7h2v10zm4 0h-2v-4h2v4z\"/>\n",
              "    </g>\n",
              "</svg>\n",
              "  </button>\n",
              "\n",
              "<style>\n",
              "  .colab-df-quickchart {\n",
              "      --bg-color: #E8F0FE;\n",
              "      --fill-color: #1967D2;\n",
              "      --hover-bg-color: #E2EBFA;\n",
              "      --hover-fill-color: #174EA6;\n",
              "      --disabled-fill-color: #AAA;\n",
              "      --disabled-bg-color: #DDD;\n",
              "  }\n",
              "\n",
              "  [theme=dark] .colab-df-quickchart {\n",
              "      --bg-color: #3B4455;\n",
              "      --fill-color: #D2E3FC;\n",
              "      --hover-bg-color: #434B5C;\n",
              "      --hover-fill-color: #FFFFFF;\n",
              "      --disabled-bg-color: #3B4455;\n",
              "      --disabled-fill-color: #666;\n",
              "  }\n",
              "\n",
              "  .colab-df-quickchart {\n",
              "    background-color: var(--bg-color);\n",
              "    border: none;\n",
              "    border-radius: 50%;\n",
              "    cursor: pointer;\n",
              "    display: none;\n",
              "    fill: var(--fill-color);\n",
              "    height: 32px;\n",
              "    padding: 0;\n",
              "    width: 32px;\n",
              "  }\n",
              "\n",
              "  .colab-df-quickchart:hover {\n",
              "    background-color: var(--hover-bg-color);\n",
              "    box-shadow: 0 1px 2px rgba(60, 64, 67, 0.3), 0 1px 3px 1px rgba(60, 64, 67, 0.15);\n",
              "    fill: var(--button-hover-fill-color);\n",
              "  }\n",
              "\n",
              "  .colab-df-quickchart-complete:disabled,\n",
              "  .colab-df-quickchart-complete:disabled:hover {\n",
              "    background-color: var(--disabled-bg-color);\n",
              "    fill: var(--disabled-fill-color);\n",
              "    box-shadow: none;\n",
              "  }\n",
              "\n",
              "  .colab-df-spinner {\n",
              "    border: 2px solid var(--fill-color);\n",
              "    border-color: transparent;\n",
              "    border-bottom-color: var(--fill-color);\n",
              "    animation:\n",
              "      spin 1s steps(1) infinite;\n",
              "  }\n",
              "\n",
              "  @keyframes spin {\n",
              "    0% {\n",
              "      border-color: transparent;\n",
              "      border-bottom-color: var(--fill-color);\n",
              "      border-left-color: var(--fill-color);\n",
              "    }\n",
              "    20% {\n",
              "      border-color: transparent;\n",
              "      border-left-color: var(--fill-color);\n",
              "      border-top-color: var(--fill-color);\n",
              "    }\n",
              "    30% {\n",
              "      border-color: transparent;\n",
              "      border-left-color: var(--fill-color);\n",
              "      border-top-color: var(--fill-color);\n",
              "      border-right-color: var(--fill-color);\n",
              "    }\n",
              "    40% {\n",
              "      border-color: transparent;\n",
              "      border-right-color: var(--fill-color);\n",
              "      border-top-color: var(--fill-color);\n",
              "    }\n",
              "    60% {\n",
              "      border-color: transparent;\n",
              "      border-right-color: var(--fill-color);\n",
              "    }\n",
              "    80% {\n",
              "      border-color: transparent;\n",
              "      border-right-color: var(--fill-color);\n",
              "      border-bottom-color: var(--fill-color);\n",
              "    }\n",
              "    90% {\n",
              "      border-color: transparent;\n",
              "      border-bottom-color: var(--fill-color);\n",
              "    }\n",
              "  }\n",
              "</style>\n",
              "\n",
              "  <script>\n",
              "    async function quickchart(key) {\n",
              "      const quickchartButtonEl =\n",
              "        document.querySelector('#' + key + ' button');\n",
              "      quickchartButtonEl.disabled = true;  // To prevent multiple clicks.\n",
              "      quickchartButtonEl.classList.add('colab-df-spinner');\n",
              "      try {\n",
              "        const charts = await google.colab.kernel.invokeFunction(\n",
              "            'suggestCharts', [key], {});\n",
              "      } catch (error) {\n",
              "        console.error('Error during call to suggestCharts:', error);\n",
              "      }\n",
              "      quickchartButtonEl.classList.remove('colab-df-spinner');\n",
              "      quickchartButtonEl.classList.add('colab-df-quickchart-complete');\n",
              "    }\n",
              "    (() => {\n",
              "      let quickchartButtonEl =\n",
              "        document.querySelector('#df-90218ca7-ede2-43a5-8595-bcfb5ef55802 button');\n",
              "      quickchartButtonEl.style.display =\n",
              "        google.colab.kernel.accessAllowed ? 'block' : 'none';\n",
              "    })();\n",
              "  </script>\n",
              "</div>\n",
              "    </div>\n",
              "  </div>\n"
            ],
            "application/vnd.google.colaboratory.intrinsic+json": {
              "type": "dataframe",
              "summary": "{\n  \"name\": \"df\",\n  \"rows\": 8,\n  \"fields\": [\n    {\n      \"column\": \"Unit price\",\n      \"properties\": {\n        \"dtype\": \"number\",\n        \"std\": 0.3403790754602587,\n        \"min\": -0.005896267728875976,\n        \"max\": 1.0,\n        \"num_unique_values\": 4,\n        \"samples\": [\n          0.007629873693686685,\n          -0.005896267728875976,\n          1.0\n        ],\n        \"semantic_type\": \"\",\n        \"description\": \"\"\n      }\n    },\n    {\n      \"column\": \"Quantity\",\n      \"properties\": {\n        \"dtype\": \"number\",\n        \"std\": 0.35741034794743465,\n        \"min\": -0.010217905972267202,\n        \"max\": 1.0,\n        \"num_unique_values\": 4,\n        \"samples\": [\n          1.0,\n          -0.010217905972267202,\n          0.007629873693686685\n        ],\n        \"semantic_type\": \"\",\n        \"description\": \"\"\n      }\n    },\n    {\n      \"column\": \"Tax 5%\",\n      \"properties\": {\n        \"dtype\": \"number\",\n        \"std\": 0.3946758392415146,\n        \"min\": -0.010784746564399317,\n        \"max\": 1.0,\n        \"num_unique_values\": 4,\n        \"samples\": [\n          0.571444803783116,\n          -0.010784746564399317,\n          0.46519082433686454\n        ],\n        \"semantic_type\": \"\",\n        \"description\": \"\"\n      }\n    },\n    {\n      \"column\": \"Total\",\n      \"properties\": {\n        \"dtype\": \"number\",\n        \"std\": 0.3946758392415146,\n        \"min\": -0.010784746564399317,\n        \"max\": 1.0,\n        \"num_unique_values\": 4,\n        \"samples\": [\n          0.571444803783116,\n          -0.010784746564399317,\n          0.46519082433686454\n        ],\n        \"semantic_type\": \"\",\n        \"description\": \"\"\n      }\n    },\n    {\n      \"column\": \"cogs\",\n      \"properties\": {\n        \"dtype\": \"number\",\n        \"std\": 0.3946758392415146,\n        \"min\": -0.010784746564399317,\n        \"max\": 1.0,\n        \"num_unique_values\": 4,\n        \"samples\": [\n          0.571444803783116,\n          -0.010784746564399317,\n          0.46519082433686454\n        ],\n        \"semantic_type\": \"\",\n        \"description\": \"\"\n      }\n    },\n    {\n      \"column\": \"gross margin percentage\",\n      \"properties\": {\n        \"dtype\": \"number\",\n        \"std\": null,\n        \"min\": 1.0,\n        \"max\": 1.0,\n        \"num_unique_values\": 1,\n        \"samples\": [\n          1.0\n        ],\n        \"semantic_type\": \"\",\n        \"description\": \"\"\n      }\n    },\n    {\n      \"column\": \"gross income\",\n      \"properties\": {\n        \"dtype\": \"number\",\n        \"std\": 0.3946758392415146,\n        \"min\": -0.010784746564399317,\n        \"max\": 1.0,\n        \"num_unique_values\": 4,\n        \"samples\": [\n          0.571444803783116\n        ],\n        \"semantic_type\": \"\",\n        \"description\": \"\"\n      }\n    },\n    {\n      \"column\": \"Rating\",\n      \"properties\": {\n        \"dtype\": \"number\",\n        \"std\": 0.38170127578221424,\n        \"min\": -0.010784746564399317,\n        \"max\": 1.0,\n        \"num_unique_values\": 4,\n        \"samples\": [\n          -0.010217905972267202\n        ],\n        \"semantic_type\": \"\",\n        \"description\": \"\"\n      }\n    }\n  ]\n}"
            }
          },
          "metadata": {},
          "execution_count": 10
        }
      ]
    },
    {
      "cell_type": "markdown",
      "source": [
        "**Unit price dan quantity** : kolerasi antara harga unit dan jumlah barang yang dibeli adalah sangat rendah,yaitu sekitar 0.0076.menunjukkan bahwa tidak ada hubungan monotik yang kuat antara harga unit dan jumlah barang yang dibeli.\n",
        "\n",
        "\n",
        "**Unit price dan Tax 5%** : Kolerasi antara harga unit dan Tax 5% adalah cukup kuat yautu sekitar 0.4652.menunjukkan bahwa ada hubungan monotik yang moderat antara harga unit dan Tax 5%.\n",
        "\n",
        "\n",
        "**Unit price dan Total** : Kolerasi antara harga unit dan total adalah cukup kuat yaitu sekitar 0.4652.menunjukkan bahwa ada hubungan monotik yang moderat antara harga unit dan total.\n",
        "\n",
        "\n",
        "**Unit price dan cogs** : Kolerasi antara harga unit dan cogs adalah cukup kuat yaitu sekitar 0.4652.menunjukkan bahwa ada hubungan monotik yang moderat antara harga unit dan cogs.\n",
        "\n",
        "\n",
        "**Unit Price dan gross income** : Kolerasi antara harga unit dan gross income adalah cukup kuat yaitu sekitar 0.4652.menunjukkan bahwa ada hubungan monotik yang moderat antara harga unit dan gross income.\n",
        "\n",
        "\n",
        "**Unit Price dan Rating** : Kolerasi negatif yang sangat lemah antara harga unit dan rating.menunjukkan bahwa tidak ada hubungan yang jelas antara harga unit dan rating.\n",
        "\n",
        "\n",
        "**Quantity dan tax 5%** : Kolerasi antara quantity dan tax 5% cukup kuat sekitar 0.5714.\n",
        "\n",
        "\n",
        "**Quantity dan total** : Kolerasi antara quantity dan total cukup kuat sekitar 0.5714 menunjukkan bahwa ada hubungan monotik yang moderat antara quantity dan total.\n",
        "\n",
        "\n",
        "**Quantity dan cogs** : Kolerasi antara quantity dan cogs adalah cukup kuat sekitar 0.5714\n",
        "\n",
        "\n",
        "**Quantity dan gross income** : Kolerasi antara quantity dan gross income adalah sangat kuat sekitar 1 menunjukkan bahwa ada hubungan yang kuat antara quantity dan gross income.\n",
        "\n",
        "\n",
        "**Tax 5% dan total** : Kolerasi antara tax 5% dan total sangat kuat yaitu sekitar 1.\n",
        "\n",
        "\n",
        "**Tax 5% dan cogs** : Kolerasi antara tax 5% dan cogs sangat kuat yaitu sekitar 1.\n",
        "\n",
        "\n",
        "**Tax 5% dan gross income** : Kolerasi antara tax 5% dan gross income sangat kuat yaitu 1.\n",
        "\n",
        "\n",
        "**Total dan cogs** : Kolerasi antara total dan cogs sangat kuat yaitu 1 menunjukkan bahwa hubungan antara total dan cogs sangat kuat.\n",
        "\n",
        "\n",
        "**Total dan gross income** : Kolerasi total dan gross income adalah sangat kuat sekitar 1.\n",
        "\n",
        "\n",
        "**Cogs dan gross income** : Kolerasi antara cogs dan gross income sangat kuat yaitu 1.\n",
        "\n",
        "\n",
        "**Rating** : Kolerasi antara rating dan yang lainnya adalah sangat rendah mendekati nol."
      ],
      "metadata": {
        "id": "8On1jtebGugd"
      }
    },
    {
      "cell_type": "code",
      "source": [
        "#Kolerasi Spearmen\n",
        "df.corr(numeric_only=True, method='spearman')"
      ],
      "metadata": {
        "colab": {
          "base_uri": "https://localhost:8080/",
          "height": 300
        },
        "id": "pI6hH8uR-2Cm",
        "outputId": "832bbc90-68f2-4b3c-f881-0df26245d0a6"
      },
      "execution_count": null,
      "outputs": [
        {
          "output_type": "execute_result",
          "data": {
            "text/plain": [
              "                         Unit price  Quantity    Tax 5%     Total      cogs  \\\n",
              "Unit price                 1.000000  0.011167  0.630054  0.630054  0.630054   \n",
              "Quantity                   0.011167  1.000000  0.735265  0.735265  0.735265   \n",
              "Tax 5%                     0.630054  0.735265  1.000000  1.000000  1.000000   \n",
              "Total                      0.630054  0.735265  1.000000  1.000000  1.000000   \n",
              "cogs                       0.630054  0.735265  1.000000  1.000000  1.000000   \n",
              "gross margin percentage         NaN       NaN       NaN       NaN       NaN   \n",
              "gross income               0.630054  0.735265  1.000000  1.000000  1.000000   \n",
              "Rating                    -0.008335 -0.015453 -0.017226 -0.017226 -0.017226   \n",
              "\n",
              "                         gross margin percentage  gross income    Rating  \n",
              "Unit price                                   NaN      0.630054 -0.008335  \n",
              "Quantity                                     NaN      0.735265 -0.015453  \n",
              "Tax 5%                                       NaN      1.000000 -0.017226  \n",
              "Total                                        NaN      1.000000 -0.017226  \n",
              "cogs                                         NaN      1.000000 -0.017226  \n",
              "gross margin percentage                      NaN           NaN       NaN  \n",
              "gross income                                 NaN      1.000000 -0.017226  \n",
              "Rating                                       NaN     -0.017226  1.000000  "
            ],
            "text/html": [
              "\n",
              "  <div id=\"df-73860321-5852-4e1d-bc89-bdeb0d9d188c\" class=\"colab-df-container\">\n",
              "    <div>\n",
              "<style scoped>\n",
              "    .dataframe tbody tr th:only-of-type {\n",
              "        vertical-align: middle;\n",
              "    }\n",
              "\n",
              "    .dataframe tbody tr th {\n",
              "        vertical-align: top;\n",
              "    }\n",
              "\n",
              "    .dataframe thead th {\n",
              "        text-align: right;\n",
              "    }\n",
              "</style>\n",
              "<table border=\"1\" class=\"dataframe\">\n",
              "  <thead>\n",
              "    <tr style=\"text-align: right;\">\n",
              "      <th></th>\n",
              "      <th>Unit price</th>\n",
              "      <th>Quantity</th>\n",
              "      <th>Tax 5%</th>\n",
              "      <th>Total</th>\n",
              "      <th>cogs</th>\n",
              "      <th>gross margin percentage</th>\n",
              "      <th>gross income</th>\n",
              "      <th>Rating</th>\n",
              "    </tr>\n",
              "  </thead>\n",
              "  <tbody>\n",
              "    <tr>\n",
              "      <th>Unit price</th>\n",
              "      <td>1.000000</td>\n",
              "      <td>0.011167</td>\n",
              "      <td>0.630054</td>\n",
              "      <td>0.630054</td>\n",
              "      <td>0.630054</td>\n",
              "      <td>NaN</td>\n",
              "      <td>0.630054</td>\n",
              "      <td>-0.008335</td>\n",
              "    </tr>\n",
              "    <tr>\n",
              "      <th>Quantity</th>\n",
              "      <td>0.011167</td>\n",
              "      <td>1.000000</td>\n",
              "      <td>0.735265</td>\n",
              "      <td>0.735265</td>\n",
              "      <td>0.735265</td>\n",
              "      <td>NaN</td>\n",
              "      <td>0.735265</td>\n",
              "      <td>-0.015453</td>\n",
              "    </tr>\n",
              "    <tr>\n",
              "      <th>Tax 5%</th>\n",
              "      <td>0.630054</td>\n",
              "      <td>0.735265</td>\n",
              "      <td>1.000000</td>\n",
              "      <td>1.000000</td>\n",
              "      <td>1.000000</td>\n",
              "      <td>NaN</td>\n",
              "      <td>1.000000</td>\n",
              "      <td>-0.017226</td>\n",
              "    </tr>\n",
              "    <tr>\n",
              "      <th>Total</th>\n",
              "      <td>0.630054</td>\n",
              "      <td>0.735265</td>\n",
              "      <td>1.000000</td>\n",
              "      <td>1.000000</td>\n",
              "      <td>1.000000</td>\n",
              "      <td>NaN</td>\n",
              "      <td>1.000000</td>\n",
              "      <td>-0.017226</td>\n",
              "    </tr>\n",
              "    <tr>\n",
              "      <th>cogs</th>\n",
              "      <td>0.630054</td>\n",
              "      <td>0.735265</td>\n",
              "      <td>1.000000</td>\n",
              "      <td>1.000000</td>\n",
              "      <td>1.000000</td>\n",
              "      <td>NaN</td>\n",
              "      <td>1.000000</td>\n",
              "      <td>-0.017226</td>\n",
              "    </tr>\n",
              "    <tr>\n",
              "      <th>gross margin percentage</th>\n",
              "      <td>NaN</td>\n",
              "      <td>NaN</td>\n",
              "      <td>NaN</td>\n",
              "      <td>NaN</td>\n",
              "      <td>NaN</td>\n",
              "      <td>NaN</td>\n",
              "      <td>NaN</td>\n",
              "      <td>NaN</td>\n",
              "    </tr>\n",
              "    <tr>\n",
              "      <th>gross income</th>\n",
              "      <td>0.630054</td>\n",
              "      <td>0.735265</td>\n",
              "      <td>1.000000</td>\n",
              "      <td>1.000000</td>\n",
              "      <td>1.000000</td>\n",
              "      <td>NaN</td>\n",
              "      <td>1.000000</td>\n",
              "      <td>-0.017226</td>\n",
              "    </tr>\n",
              "    <tr>\n",
              "      <th>Rating</th>\n",
              "      <td>-0.008335</td>\n",
              "      <td>-0.015453</td>\n",
              "      <td>-0.017226</td>\n",
              "      <td>-0.017226</td>\n",
              "      <td>-0.017226</td>\n",
              "      <td>NaN</td>\n",
              "      <td>-0.017226</td>\n",
              "      <td>1.000000</td>\n",
              "    </tr>\n",
              "  </tbody>\n",
              "</table>\n",
              "</div>\n",
              "    <div class=\"colab-df-buttons\">\n",
              "\n",
              "  <div class=\"colab-df-container\">\n",
              "    <button class=\"colab-df-convert\" onclick=\"convertToInteractive('df-73860321-5852-4e1d-bc89-bdeb0d9d188c')\"\n",
              "            title=\"Convert this dataframe to an interactive table.\"\n",
              "            style=\"display:none;\">\n",
              "\n",
              "  <svg xmlns=\"http://www.w3.org/2000/svg\" height=\"24px\" viewBox=\"0 -960 960 960\">\n",
              "    <path d=\"M120-120v-720h720v720H120Zm60-500h600v-160H180v160Zm220 220h160v-160H400v160Zm0 220h160v-160H400v160ZM180-400h160v-160H180v160Zm440 0h160v-160H620v160ZM180-180h160v-160H180v160Zm440 0h160v-160H620v160Z\"/>\n",
              "  </svg>\n",
              "    </button>\n",
              "\n",
              "  <style>\n",
              "    .colab-df-container {\n",
              "      display:flex;\n",
              "      gap: 12px;\n",
              "    }\n",
              "\n",
              "    .colab-df-convert {\n",
              "      background-color: #E8F0FE;\n",
              "      border: none;\n",
              "      border-radius: 50%;\n",
              "      cursor: pointer;\n",
              "      display: none;\n",
              "      fill: #1967D2;\n",
              "      height: 32px;\n",
              "      padding: 0 0 0 0;\n",
              "      width: 32px;\n",
              "    }\n",
              "\n",
              "    .colab-df-convert:hover {\n",
              "      background-color: #E2EBFA;\n",
              "      box-shadow: 0px 1px 2px rgba(60, 64, 67, 0.3), 0px 1px 3px 1px rgba(60, 64, 67, 0.15);\n",
              "      fill: #174EA6;\n",
              "    }\n",
              "\n",
              "    .colab-df-buttons div {\n",
              "      margin-bottom: 4px;\n",
              "    }\n",
              "\n",
              "    [theme=dark] .colab-df-convert {\n",
              "      background-color: #3B4455;\n",
              "      fill: #D2E3FC;\n",
              "    }\n",
              "\n",
              "    [theme=dark] .colab-df-convert:hover {\n",
              "      background-color: #434B5C;\n",
              "      box-shadow: 0px 1px 3px 1px rgba(0, 0, 0, 0.15);\n",
              "      filter: drop-shadow(0px 1px 2px rgba(0, 0, 0, 0.3));\n",
              "      fill: #FFFFFF;\n",
              "    }\n",
              "  </style>\n",
              "\n",
              "    <script>\n",
              "      const buttonEl =\n",
              "        document.querySelector('#df-73860321-5852-4e1d-bc89-bdeb0d9d188c button.colab-df-convert');\n",
              "      buttonEl.style.display =\n",
              "        google.colab.kernel.accessAllowed ? 'block' : 'none';\n",
              "\n",
              "      async function convertToInteractive(key) {\n",
              "        const element = document.querySelector('#df-73860321-5852-4e1d-bc89-bdeb0d9d188c');\n",
              "        const dataTable =\n",
              "          await google.colab.kernel.invokeFunction('convertToInteractive',\n",
              "                                                    [key], {});\n",
              "        if (!dataTable) return;\n",
              "\n",
              "        const docLinkHtml = 'Like what you see? Visit the ' +\n",
              "          '<a target=\"_blank\" href=https://colab.research.google.com/notebooks/data_table.ipynb>data table notebook</a>'\n",
              "          + ' to learn more about interactive tables.';\n",
              "        element.innerHTML = '';\n",
              "        dataTable['output_type'] = 'display_data';\n",
              "        await google.colab.output.renderOutput(dataTable, element);\n",
              "        const docLink = document.createElement('div');\n",
              "        docLink.innerHTML = docLinkHtml;\n",
              "        element.appendChild(docLink);\n",
              "      }\n",
              "    </script>\n",
              "  </div>\n",
              "\n",
              "\n",
              "<div id=\"df-5c0f3cfd-f72b-4dfb-94a2-e8e9a755157c\">\n",
              "  <button class=\"colab-df-quickchart\" onclick=\"quickchart('df-5c0f3cfd-f72b-4dfb-94a2-e8e9a755157c')\"\n",
              "            title=\"Suggest charts\"\n",
              "            style=\"display:none;\">\n",
              "\n",
              "<svg xmlns=\"http://www.w3.org/2000/svg\" height=\"24px\"viewBox=\"0 0 24 24\"\n",
              "     width=\"24px\">\n",
              "    <g>\n",
              "        <path d=\"M19 3H5c-1.1 0-2 .9-2 2v14c0 1.1.9 2 2 2h14c1.1 0 2-.9 2-2V5c0-1.1-.9-2-2-2zM9 17H7v-7h2v7zm4 0h-2V7h2v10zm4 0h-2v-4h2v4z\"/>\n",
              "    </g>\n",
              "</svg>\n",
              "  </button>\n",
              "\n",
              "<style>\n",
              "  .colab-df-quickchart {\n",
              "      --bg-color: #E8F0FE;\n",
              "      --fill-color: #1967D2;\n",
              "      --hover-bg-color: #E2EBFA;\n",
              "      --hover-fill-color: #174EA6;\n",
              "      --disabled-fill-color: #AAA;\n",
              "      --disabled-bg-color: #DDD;\n",
              "  }\n",
              "\n",
              "  [theme=dark] .colab-df-quickchart {\n",
              "      --bg-color: #3B4455;\n",
              "      --fill-color: #D2E3FC;\n",
              "      --hover-bg-color: #434B5C;\n",
              "      --hover-fill-color: #FFFFFF;\n",
              "      --disabled-bg-color: #3B4455;\n",
              "      --disabled-fill-color: #666;\n",
              "  }\n",
              "\n",
              "  .colab-df-quickchart {\n",
              "    background-color: var(--bg-color);\n",
              "    border: none;\n",
              "    border-radius: 50%;\n",
              "    cursor: pointer;\n",
              "    display: none;\n",
              "    fill: var(--fill-color);\n",
              "    height: 32px;\n",
              "    padding: 0;\n",
              "    width: 32px;\n",
              "  }\n",
              "\n",
              "  .colab-df-quickchart:hover {\n",
              "    background-color: var(--hover-bg-color);\n",
              "    box-shadow: 0 1px 2px rgba(60, 64, 67, 0.3), 0 1px 3px 1px rgba(60, 64, 67, 0.15);\n",
              "    fill: var(--button-hover-fill-color);\n",
              "  }\n",
              "\n",
              "  .colab-df-quickchart-complete:disabled,\n",
              "  .colab-df-quickchart-complete:disabled:hover {\n",
              "    background-color: var(--disabled-bg-color);\n",
              "    fill: var(--disabled-fill-color);\n",
              "    box-shadow: none;\n",
              "  }\n",
              "\n",
              "  .colab-df-spinner {\n",
              "    border: 2px solid var(--fill-color);\n",
              "    border-color: transparent;\n",
              "    border-bottom-color: var(--fill-color);\n",
              "    animation:\n",
              "      spin 1s steps(1) infinite;\n",
              "  }\n",
              "\n",
              "  @keyframes spin {\n",
              "    0% {\n",
              "      border-color: transparent;\n",
              "      border-bottom-color: var(--fill-color);\n",
              "      border-left-color: var(--fill-color);\n",
              "    }\n",
              "    20% {\n",
              "      border-color: transparent;\n",
              "      border-left-color: var(--fill-color);\n",
              "      border-top-color: var(--fill-color);\n",
              "    }\n",
              "    30% {\n",
              "      border-color: transparent;\n",
              "      border-left-color: var(--fill-color);\n",
              "      border-top-color: var(--fill-color);\n",
              "      border-right-color: var(--fill-color);\n",
              "    }\n",
              "    40% {\n",
              "      border-color: transparent;\n",
              "      border-right-color: var(--fill-color);\n",
              "      border-top-color: var(--fill-color);\n",
              "    }\n",
              "    60% {\n",
              "      border-color: transparent;\n",
              "      border-right-color: var(--fill-color);\n",
              "    }\n",
              "    80% {\n",
              "      border-color: transparent;\n",
              "      border-right-color: var(--fill-color);\n",
              "      border-bottom-color: var(--fill-color);\n",
              "    }\n",
              "    90% {\n",
              "      border-color: transparent;\n",
              "      border-bottom-color: var(--fill-color);\n",
              "    }\n",
              "  }\n",
              "</style>\n",
              "\n",
              "  <script>\n",
              "    async function quickchart(key) {\n",
              "      const quickchartButtonEl =\n",
              "        document.querySelector('#' + key + ' button');\n",
              "      quickchartButtonEl.disabled = true;  // To prevent multiple clicks.\n",
              "      quickchartButtonEl.classList.add('colab-df-spinner');\n",
              "      try {\n",
              "        const charts = await google.colab.kernel.invokeFunction(\n",
              "            'suggestCharts', [key], {});\n",
              "      } catch (error) {\n",
              "        console.error('Error during call to suggestCharts:', error);\n",
              "      }\n",
              "      quickchartButtonEl.classList.remove('colab-df-spinner');\n",
              "      quickchartButtonEl.classList.add('colab-df-quickchart-complete');\n",
              "    }\n",
              "    (() => {\n",
              "      let quickchartButtonEl =\n",
              "        document.querySelector('#df-5c0f3cfd-f72b-4dfb-94a2-e8e9a755157c button');\n",
              "      quickchartButtonEl.style.display =\n",
              "        google.colab.kernel.accessAllowed ? 'block' : 'none';\n",
              "    })();\n",
              "  </script>\n",
              "</div>\n",
              "    </div>\n",
              "  </div>\n"
            ],
            "application/vnd.google.colaboratory.intrinsic+json": {
              "type": "dataframe",
              "summary": "{\n  \"name\": \"df\",\n  \"rows\": 8,\n  \"fields\": [\n    {\n      \"column\": \"Unit price\",\n      \"properties\": {\n        \"dtype\": \"number\",\n        \"std\": 0.36854279656651784,\n        \"min\": -0.008335194945996991,\n        \"max\": 1.0,\n        \"num_unique_values\": 4,\n        \"samples\": [\n          0.011167008778823961,\n          -0.008335194945996991,\n          1.0\n        ],\n        \"semantic_type\": \"\",\n        \"description\": \"\"\n      }\n    },\n    {\n      \"column\": \"Quantity\",\n      \"properties\": {\n        \"dtype\": \"number\",\n        \"std\": 0.39765883356824355,\n        \"min\": -0.01545297512859188,\n        \"max\": 1.0,\n        \"num_unique_values\": 4,\n        \"samples\": [\n          1.0,\n          -0.01545297512859188,\n          0.011167008778823961\n        ],\n        \"semantic_type\": \"\",\n        \"description\": \"\"\n      }\n    },\n    {\n      \"column\": \"Tax 5%\",\n      \"properties\": {\n        \"dtype\": \"number\",\n        \"std\": 0.3767990493511869,\n        \"min\": -0.017225932601977776,\n        \"max\": 1.0,\n        \"num_unique_values\": 4,\n        \"samples\": [\n          0.7352653060195858,\n          -0.017225932601977776,\n          0.6300541064753133\n        ],\n        \"semantic_type\": \"\",\n        \"description\": \"\"\n      }\n    },\n    {\n      \"column\": \"Total\",\n      \"properties\": {\n        \"dtype\": \"number\",\n        \"std\": 0.3767990493511869,\n        \"min\": -0.017225932601977776,\n        \"max\": 1.0,\n        \"num_unique_values\": 4,\n        \"samples\": [\n          0.7352653060195858,\n          -0.017225932601977776,\n          0.6300541064753133\n        ],\n        \"semantic_type\": \"\",\n        \"description\": \"\"\n      }\n    },\n    {\n      \"column\": \"cogs\",\n      \"properties\": {\n        \"dtype\": \"number\",\n        \"std\": 0.3767990493511869,\n        \"min\": -0.017225932601977776,\n        \"max\": 1.0,\n        \"num_unique_values\": 4,\n        \"samples\": [\n          0.7352653060195858,\n          -0.017225932601977776,\n          0.6300541064753133\n        ],\n        \"semantic_type\": \"\",\n        \"description\": \"\"\n      }\n    },\n    {\n      \"column\": \"gross margin percentage\",\n      \"properties\": {\n        \"dtype\": \"number\",\n        \"std\": null,\n        \"min\": null,\n        \"max\": null,\n        \"num_unique_values\": 0,\n        \"samples\": [],\n        \"semantic_type\": \"\",\n        \"description\": \"\"\n      }\n    },\n    {\n      \"column\": \"gross income\",\n      \"properties\": {\n        \"dtype\": \"number\",\n        \"std\": 0.3767990493511869,\n        \"min\": -0.017225932601977776,\n        \"max\": 1.0,\n        \"num_unique_values\": 4,\n        \"samples\": [],\n        \"semantic_type\": \"\",\n        \"description\": \"\"\n      }\n    },\n    {\n      \"column\": \"Rating\",\n      \"properties\": {\n        \"dtype\": \"number\",\n        \"std\": 0.38381724380813714,\n        \"min\": -0.017225932601977776,\n        \"max\": 1.0,\n        \"num_unique_values\": 4,\n        \"samples\": [],\n        \"semantic_type\": \"\",\n        \"description\": \"\"\n      }\n    }\n  ]\n}"
            }
          },
          "metadata": {},
          "execution_count": 13
        }
      ]
    },
    {
      "cell_type": "markdown",
      "source": [
        "**Unit price dan Quantity** : Kolerasi antara unit price dan quantity sangat rendah sekitar 0.0112.\n",
        "\n",
        "\n",
        "**Unit price dan Tax 5%** : Kolerasi antara unit price dan tax 5% cukup kuat yaitu sekitar 0.6301\n",
        "\n",
        "\n",
        "**Unit price dan Total** : Kolerasi antara unit price dan total cukup kuat sekitar 0.6301\n",
        "\n",
        "\n",
        "**Unit price dan cogs** : Kolerasi antara unit price dan cogs cukup kuat yaitu 0.6301\n",
        "\n",
        "\n",
        "**Unit price dan Gross Income** : Kolerasi antara unit price dan gross income adalah cukup kuat yaitu 0.6301\n",
        "\n",
        "\n",
        "**Quantity dan Tax 5%** : Kolerasi antara quantity dan tax 5% adalah cukup kuat yaitu sekitar 0.7353\n",
        "\n",
        "\n",
        "**Quantity dan Total** : Kolerasi antara quantity dan total adalah cukup kuat yaitu 0.7353\n",
        "\n",
        "\n",
        "**Quantity dan cogs** : Kolerasi antara quantity dan cogs adalah cukup kuat yaitu 0.7353\n",
        "\n",
        "\n",
        "**Quantity dan gross income** : Kolerasi antara quantity dan gross income adalah cukup kuat yaitu 0.7353\n",
        "\n",
        "\n",
        "**Tax 5% dan total** : Kolerasi antara tax 5% dan total adalah sangat kuat yaitu sekitar 1.\n",
        "\n",
        "\n",
        "**Tax 5% dan cogs** :Kolerasi antara tax 5% dan cogs adalah sangat kuat yaitu sekitar 1.\n",
        "\n",
        "\n",
        "**Tax 5% dan gross income** : Kolerasi antara tax 5% dan gross income adalah sangat kuat yaitu 1\n",
        "\n",
        "\n",
        "**Total dan cogs** : Kolerasi antara total dan cogs adalah sangat kuat yaitu 1.\n",
        "\n",
        "\n",
        "**Total dan gross income** : Kolerasi antara total dan gross income adalah sangat kuat sekitar 1\n",
        "\n",
        "\n",
        "**Cogs dan gross income** : Kolerasi antara cogs dan gross income adalah sangat kuat yaitu 1.\n",
        "\n",
        "\n",
        "**Rating** : Kolerasi antara rating dan lainnya sangat rendah mendekati nol."
      ],
      "metadata": {
        "id": "bZ7BeXnxOZkc"
      }
    },
    {
      "cell_type": "code",
      "source": [
        "product_line_counts = df['Product line'].value_counts()"
      ],
      "metadata": {
        "id": "a5-8l9LmeSQO"
      },
      "execution_count": null,
      "outputs": []
    },
    {
      "cell_type": "code",
      "source": [
        "product_line_counts.plot(kind='pie',\n",
        "                   autopct='%1.1f%%',\n",
        "                   startangle=140)"
      ],
      "metadata": {
        "colab": {
          "base_uri": "https://localhost:8080/",
          "height": 423
        },
        "id": "snQNExcRfCl4",
        "outputId": "395b4a72-ca52-496e-a412-2bb8201109a3"
      },
      "execution_count": null,
      "outputs": [
        {
          "output_type": "execute_result",
          "data": {
            "text/plain": [
              "<Axes: ylabel='Product line'>"
            ]
          },
          "metadata": {},
          "execution_count": 12
        },
        {
          "output_type": "display_data",
          "data": {
            "text/plain": [
              "<Figure size 640x480 with 1 Axes>"
            ],
            "image/png": "[encoded data removed]"
          },
          "metadata": {}
        }
      ]
    },
    {
      "cell_type": "markdown",
      "source": [
        "**Health dan Beauty** : kategori ini berkisar 15.2% mencakup produk-produk seperti perawatan kulit,produk kecantikan dan peralatan kesehatan.\n",
        "\n",
        "\n",
        "**Home dan Lifestyle** : kategori ini berkisar 16.0% mencakup produk-produk seperti dekorasi rumah dan peralatan rumah tangga.\n",
        "\n",
        "\n",
        "**Sports dan Travel** : kategori ini berkisar 16.6% mencakup produk-produk seperti peralatan olahraga,perlengkapan perjalanan dan barang terkait liburan maupun aktivitas outdoor.\n",
        "\n",
        "\n",
        "\n",
        "**Electronic Accessories** : kategori ini berkisar 17.0% mencakup produk-produk seperti kabel,charger,earphone dan lain-lain.\n",
        "\n",
        "\n",
        "**Food dan Beverages** : kategori ini berkisar 17.4% mencakup produk-produk seperti makanan ringan,minuman kaleng dan bahan makanan pokok.\n",
        "\n",
        "\n",
        "**Fashion Accessories** : kategori ini berkisar 17.8% mencakup produk-produk seperti perhiasan,kacamata,tas dan topi.\n",
        "\n",
        "\n"
      ],
      "metadata": {
        "id": "NNAsKM2iS6Az"
      }
    },
    {
      "cell_type": "code",
      "source": [
        "gender_counts = df['Gender'].value_counts()"
      ],
      "metadata": {
        "id": "3Xd62DipemPr"
      },
      "execution_count": null,
      "outputs": []
    },
    {
      "cell_type": "code",
      "source": [
        "gender_counts.plot(kind='pie',\n",
        "                   autopct='%1.1f%%',\n",
        "                   startangle=140)"
      ],
      "metadata": {
        "colab": {
          "base_uri": "https://localhost:8080/",
          "height": 423
        },
        "id": "Cv9xxjOee_sB",
        "outputId": "977fd366-9240-4468-d5db-64509f88b7c1"
      },
      "execution_count": null,
      "outputs": [
        {
          "output_type": "execute_result",
          "data": {
            "text/plain": [
              "<Axes: ylabel='Gender'>"
            ]
          },
          "metadata": {},
          "execution_count": 11
        },
        {
          "output_type": "display_data",
          "data": {
            "text/plain": [
              "<Figure size 640x480 with 1 Axes>"
            ],
            "image/png": "[encoded data removed]"
          },
          "metadata": {}
        }
      ]
    },
    {
      "cell_type": "markdown",
      "source": [
        "Dalam gender perempuan berkisar 50.1% sedangkan laki-laki 49.9%"
      ],
      "metadata": {
        "id": "NgNw-h1zVDYE"
      }
    },
    {
      "cell_type": "code",
      "source": [
        "sns.histplot(df['Payment'].dropna(), bins=10, kde=True)"
      ],
      "metadata": {
        "colab": {
          "base_uri": "https://localhost:8080/",
          "height": 466
        },
        "id": "XPcs4mx7faQ9",
        "outputId": "5933a2e7-5d31-4434-9861-edbde2efd57b"
      },
      "execution_count": null,
      "outputs": [
        {
          "output_type": "execute_result",
          "data": {
            "text/plain": [
              "<Axes: xlabel='Payment', ylabel='Count'>"
            ]
          },
          "metadata": {},
          "execution_count": 14
        },
        {
          "output_type": "display_data",
          "data": {
            "text/plain": [
              "<Figure size 640x480 with 1 Axes>"
            ],
            "image/png": "[encoded data removed]"
          },
          "metadata": {}
        }
      ]
    },
    {
      "cell_type": "markdown",
      "source": [
        "Dalam Payment Ewallet dan Cash Payment sangat tidak berbeda jauh dibandingkan credit card.Berarti pelanggan lebih banyak menggunakan pembayaran ewallet dan cash."
      ],
      "metadata": {
        "id": "dEgNmAGzVU_R"
      }
    },
    {
      "cell_type": "code",
      "source": [
        "sns.countplot(x='Quantity', data=df, palette='pastel')"
      ],
      "metadata": {
        "colab": {
          "base_uri": "https://localhost:8080/",
          "height": 582
        },
        "id": "qUK5yAeoV63j",
        "outputId": "bd2fdc0f-3a63-4291-b8fe-cb2eed89ff13"
      },
      "execution_count": null,
      "outputs": [
        {
          "output_type": "stream",
          "name": "stderr",
          "text": [
            "<ipython-input-71-5127f288a0f7>:1: FutureWarning: \n",
            "\n",
            "Passing `palette` without assigning `hue` is deprecated and will be removed in v0.14.0. Assign the `x` variable to `hue` and set `legend=False` for the same effect.\n",
            "\n",
            "  sns.countplot(x='Quantity', data=df, palette='pastel')\n"
          ]
        },
        {
          "output_type": "execute_result",
          "data": {
            "text/plain": [
              "<Axes: xlabel='Quantity', ylabel='count'>"
            ]
          },
          "metadata": {},
          "execution_count": 71
        },
        {
          "output_type": "display_data",
          "data": {
            "text/plain": [
              "<Figure size 640x480 with 1 Axes>"
            ],
            "image/png": "[encoded data removed]"
          },
          "metadata": {}
        }
      ]
    },
    {
      "cell_type": "markdown",
      "source": [
        "Pada Quantity (jumlah unit produk yang dibeli) pelanggan lebih banyak membeli jumlah unit produk sebanyak 10 produk,sedangkan sedikit pelanggan yang membeli 8 produk."
      ],
      "metadata": {
        "id": "0e8pj3RXXACG"
      }
    },
    {
      "cell_type": "markdown",
      "source": [
        "Pada setiap kolom tidak ada nilai null"
      ],
      "metadata": {
        "id": "pHBGIDLiW6n8"
      }
    },
    {
      "cell_type": "markdown",
      "source": [
        "##**Verify Data Quality**"
      ],
      "metadata": {
        "id": "BqwrKc6WXFpz"
      }
    },
    {
      "cell_type": "markdown",
      "source": [
        "####Missing Values"
      ],
      "metadata": {
        "id": "JrPhpE3VXTMR"
      }
    },
    {
      "cell_type": "code",
      "source": [
        "missing_values = df.isnull().sum()"
      ],
      "metadata": {
        "id": "iq2vTmQJXhuj"
      },
      "execution_count": null,
      "outputs": []
    },
    {
      "cell_type": "code",
      "source": [
        "missing_values"
      ],
      "metadata": {
        "colab": {
          "base_uri": "https://localhost:8080/"
        },
        "id": "-0LagmF7NsWB",
        "outputId": "cac21b60-53b7-454d-96d2-287e38b6e2a8"
      },
      "execution_count": null,
      "outputs": [
        {
          "output_type": "execute_result",
          "data": {
            "text/plain": [
              "Invoice ID                 0\n",
              "Branch                     0\n",
              "City                       0\n",
              "Customer type              0\n",
              "Gender                     0\n",
              "Product line               0\n",
              "Unit price                 0\n",
              "Quantity                   0\n",
              "Tax 5%                     0\n",
              "Total                      0\n",
              "Date                       0\n",
              "Time                       0\n",
              "Payment                    0\n",
              "cogs                       0\n",
              "gross margin percentage    0\n",
              "gross income               0\n",
              "Rating                     0\n",
              "dtype: int64"
            ]
          },
          "metadata": {},
          "execution_count": 21
        }
      ]
    },
    {
      "cell_type": "markdown",
      "source": [
        "Pada setiap kolom tidak ada nilai null(missing values).ini merupakan indikasi yang baik karena data yang bersih dan lengkap memudahkan dalam analisis selanjutnya."
      ],
      "metadata": {
        "id": "vxKVbaHuaBL7"
      }
    },
    {
      "cell_type": "markdown",
      "source": [
        "####Outliers Values"
      ],
      "metadata": {
        "id": "jEeCU-vVXV84"
      }
    },
    {
      "cell_type": "code",
      "source": [
        "def detect_outliers_iqr(column):\n",
        "    if pd.api.types.is_numeric_dtype(column):\n",
        "        Q1 = column.quantile(0.25)\n",
        "        Q3 = column.quantile(0.75)\n",
        "        IQR = Q3 - Q1\n",
        "        lower_bound = Q1 - 1.5 * IQR\n",
        "        upper_bound = Q3 + 1.5 * IQR\n",
        "        outliers = column[(column < lower_bound) | (column > upper_bound)]\n",
        "        return outliers\n",
        "    else:\n",
        "        return pd.Series([])"
      ],
      "metadata": {
        "id": "PBLAZW_LmMK3"
      },
      "execution_count": null,
      "outputs": []
    },
    {
      "cell_type": "code",
      "source": [
        "print(\"\\nOutliers pada kolom numerik:\")\n",
        "for column in df.select_dtypes(include=['float64', 'int64','object']).columns:\n",
        "    outliers = detect_outliers_iqr(df[column])\n",
        "    if not outliers.empty:\n",
        "        print(f\"Outliers pada kolom '{column}':\")\n",
        "        print(outliers)\n",
        "    else:\n",
        "        print(f\"Tidak ada outliers pada kolom '{column}'.\")"
      ],
      "metadata": {
        "colab": {
          "base_uri": "https://localhost:8080/"
        },
        "id": "XRLmGCzumNrF",
        "outputId": "1533e0a6-f1e8-4c1f-9e69-c34141869fdb"
      },
      "execution_count": null,
      "outputs": [
        {
          "output_type": "stream",
          "name": "stdout",
          "text": [
            "\n",
            "Outliers pada kolom numerik:\n",
            "Tidak ada outliers pada kolom 'Invoice ID'.\n",
            "Tidak ada outliers pada kolom 'Branch'.\n",
            "Tidak ada outliers pada kolom 'City'.\n",
            "Tidak ada outliers pada kolom 'Customer type'.\n",
            "Tidak ada outliers pada kolom 'Gender'.\n",
            "Tidak ada outliers pada kolom 'Product line'.\n",
            "Tidak ada outliers pada kolom 'Unit price'.\n",
            "Tidak ada outliers pada kolom 'Quantity'.\n",
            "Outliers pada kolom 'Tax 5%':\n",
            "166    47.790\n",
            "167    49.490\n",
            "350    49.650\n",
            "357    47.720\n",
            "422    48.605\n",
            "557    49.260\n",
            "699    48.750\n",
            "792    48.685\n",
            "996    48.690\n",
            "Name: Tax 5%, dtype: float64\n",
            "Outliers pada kolom 'Total':\n",
            "166    1003.590\n",
            "167    1039.290\n",
            "350    1042.650\n",
            "357    1002.120\n",
            "422    1020.705\n",
            "557    1034.460\n",
            "699    1023.750\n",
            "792    1022.385\n",
            "996    1022.490\n",
            "Name: Total, dtype: float64\n",
            "Tidak ada outliers pada kolom 'Date'.\n",
            "Tidak ada outliers pada kolom 'Time'.\n",
            "Tidak ada outliers pada kolom 'Payment'.\n",
            "Outliers pada kolom 'cogs':\n",
            "166    955.8\n",
            "167    989.8\n",
            "350    993.0\n",
            "357    954.4\n",
            "422    972.1\n",
            "557    985.2\n",
            "699    975.0\n",
            "792    973.7\n",
            "996    973.8\n",
            "Name: cogs, dtype: float64\n",
            "Tidak ada outliers pada kolom 'gross margin percentage'.\n",
            "Outliers pada kolom 'gross income':\n",
            "166    47.790\n",
            "167    49.490\n",
            "350    49.650\n",
            "357    47.720\n",
            "422    48.605\n",
            "557    49.260\n",
            "699    48.750\n",
            "792    48.685\n",
            "996    48.690\n",
            "Name: gross income, dtype: float64\n",
            "Tidak ada outliers pada kolom 'Rating'.\n"
          ]
        },
        {
          "output_type": "stream",
          "name": "stderr",
          "text": [
            "<ipython-input-35-c3d51f5d6156>:11: FutureWarning: The default dtype for empty Series will be 'object' instead of 'float64' in a future version. Specify a dtype explicitly to silence this warning.\n",
            "  return pd.Series([])\n",
            "<ipython-input-35-c3d51f5d6156>:11: FutureWarning: The default dtype for empty Series will be 'object' instead of 'float64' in a future version. Specify a dtype explicitly to silence this warning.\n",
            "  return pd.Series([])\n"
          ]
        }
      ]
    },
    {
      "cell_type": "markdown",
      "source": [
        "Branch,City,Customer type,Gender,Product line,Unit price,Quantity,Date,Time,Payment,Gross Margin Percentage,dan Ratings tidak ada outliers karena sebagian besar berisi data kategorikal atau string.\n",
        "\n",
        "\n",
        "Tax 5%,Total,Gross Income dan cogs memiliki outliers hal ini menunjukkan adanya transaksi yang memiliki nilai yang jauh lebih tinggi atau lebih rendah dari kebanyakan transaksi lainnya."
      ],
      "metadata": {
        "id": "dJKuxz0bdGT7"
      }
    },
    {
      "cell_type": "markdown",
      "source": [
        "####Duplicated Values"
      ],
      "metadata": {
        "id": "vWjwGwZaXaod"
      }
    },
    {
      "cell_type": "code",
      "source": [
        "print(\"Nilai duplikat pada tiap kolom:\")\n",
        "for column in df.columns:\n",
        "    duplicates = df[df.duplicated(subset=[column], keep=False)]\n",
        "    if not duplicates.empty:\n",
        "        print(f\"Column '{column}' has {len(duplicates)} duplicate value(s).\")\n",
        "    else:\n",
        "        print(f\"No duplicate values found in column '{column}'.\")\n"
      ],
      "metadata": {
        "colab": {
          "base_uri": "https://localhost:8080/"
        },
        "id": "3P2cowq-k7k2",
        "outputId": "2e8fe5ff-b35a-4193-b0be-d424103153fc"
      },
      "execution_count": null,
      "outputs": [
        {
          "output_type": "stream",
          "name": "stdout",
          "text": [
            "Nilai duplikat pada tiap kolom:\n",
            "No duplicate values found in column 'Invoice ID'.\n",
            "Column 'Branch' has 1000 duplicate value(s).\n",
            "Column 'City' has 1000 duplicate value(s).\n",
            "Column 'Customer type' has 1000 duplicate value(s).\n",
            "Column 'Gender' has 1000 duplicate value(s).\n",
            "Column 'Product line' has 1000 duplicate value(s).\n",
            "Column 'Unit price' has 113 duplicate value(s).\n",
            "Column 'Quantity' has 1000 duplicate value(s).\n",
            "Column 'Tax 5%' has 20 duplicate value(s).\n",
            "Column 'Total' has 20 duplicate value(s).\n",
            "Column 'Date' has 1000 duplicate value(s).\n",
            "Column 'Time' has 790 duplicate value(s).\n",
            "Column 'Payment' has 1000 duplicate value(s).\n",
            "Column 'cogs' has 20 duplicate value(s).\n",
            "Column 'gross margin percentage' has 1000 duplicate value(s).\n",
            "Column 'gross income' has 20 duplicate value(s).\n",
            "Column 'Rating' has 1000 duplicate value(s).\n"
          ]
        }
      ]
    },
    {
      "cell_type": "markdown",
      "source": [
        "Pada Invoice ID tidak memiliki duplicate values\n",
        "\n",
        "Pada Branch,City,Customer Type,Gender,Product Line,Quantity,Date,Payment,gross margin percentage dan rating memiliki 1000 duplicate values\n",
        "\n",
        "Pada Unit Price memiliki 113 duplicate values\n",
        "\n",
        "Pada Tax 5%,Total,cogs,dan gross income memiliki 20 duplicate values\n",
        "\n",
        "Pada Time memiliki 790 duplicate values.\n"
      ],
      "metadata": {
        "id": "CoI95xZNbaRE"
      }
    },
    {
      "cell_type": "markdown",
      "source": [
        "####Inconsistent Values / Noise (Optional)"
      ],
      "metadata": {
        "id": "q0_lULWDX-y6"
      }
    },
    {
      "cell_type": "code",
      "source": [
        "def detect_noise(column):\n",
        "    unique_values = df[column].unique()\n",
        "    inconsistent_values = []\n",
        "    for value in unique_values:\n",
        "        if isinstance(value, str):\n",
        "            if not value.isalnum():\n",
        "                inconsistent_values.append(value)\n",
        "\n",
        "    return inconsistent_values"
      ],
      "metadata": {
        "id": "mqOYJ1gnhiAN"
      },
      "execution_count": null,
      "outputs": []
    },
    {
      "cell_type": "code",
      "source": [
        "noise_per_column = {}\n",
        "for column in df.columns:\n",
        "    noise_per_column[column] = detect_noise(column)"
      ],
      "metadata": {
        "id": "S8Xbclc6hnAF"
      },
      "execution_count": null,
      "outputs": []
    },
    {
      "cell_type": "code",
      "source": [
        "for column, noise in noise_per_column.items():\n",
        "    if noise:\n",
        "        print(f\"Kolom '{column}': Terdapat nilai noise/inconsistent: {noise}\")\n",
        "    else:\n",
        "        print(f\"Kolom '{column}': Tidak ada nilai noise/inconsistent.\")"
      ],
      "metadata": {
        "colab": {
          "base_uri": "https://localhost:8080/"
        },
        "id": "G0iMUo4YhtBC",
        "outputId": "f0557c82-2618-43b3-9b5b-309f7dde9d5c"
      },
      "execution_count": null,
      "outputs": [
        {
          "output_type": "stream",
          "name": "stdout",
          "text": [
            "Kolom 'Invoice ID': Terdapat nilai noise/inconsistent: ['750-67-8428', '226-31-3081', '631-41-3108', '123-19-1176', '373-73-7910', '699-14-3026', '355-53-5943', '315-22-5665', '665-32-9167', '692-92-5582', '351-62-0822', '529-56-3974', '365-64-0515', '252-56-2699', '829-34-3910', '299-46-1805', '656-95-9349', '765-26-6951', '329-62-1586', '319-50-3348', '300-71-4605', '371-85-5789', '273-16-6619', '636-48-8204', '549-59-1358', '227-03-5010', '649-29-6775', '189-17-4241', '145-94-9061', '848-62-7243', '871-79-8483', '149-71-6266', '640-49-2076', '595-11-5460', '183-56-6882', '232-16-2483', '129-29-8530', '272-65-1806', '333-73-7901', '777-82-7220', '280-35-5823', '554-53-8700', '354-25-5821', '228-96-1411', '617-15-4209', '132-32-9879', '370-41-7321', '727-46-3608', '669-54-1719', '574-22-5561', '326-78-5178', '162-48-8011', '616-24-2851', '778-71-5554', '242-55-6721', '399-46-5918', '106-35-6779', '635-40-6220', '817-48-8732', '120-06-4233', '285-68-5083', '803-83-5989', '347-34-2234', '199-75-8169', '853-23-2453', '877-22-3308', '838-78-4295', '109-28-2512', '232-11-3025', '382-03-4532', '393-65-2792', '796-12-2025', '510-95-6347', '841-35-6630', '287-21-9091', '732-94-0499', '263-10-3913', '381-20-0914', '829-49-1914', '756-01-7507', '870-72-4431', '847-38-7188', '480-63-2856', '787-56-0757', '360-39-5055', '730-50-9884', '362-58-8315', '633-44-8566', '504-35-8843', '318-68-5053', '565-80-5980', '225-32-0908', '873-51-0671', '152-08-9985', '512-91-0811', '594-34-4444', '766-85-7061', '871-39-9221', '865-92-6136', '733-01-9107', '163-56-7055', '189-98-2939', '551-21-3069', '212-62-1842', '716-39-1409', '704-48-3927', '628-34-3388', '630-74-5166', '588-01-7461', '861-77-0145', '479-26-8945', '210-67-5886', '227-78-1148', '645-44-1170', '237-01-6122', '225-98-1496', '291-32-1427', '659-65-8956', '642-32-2990', '378-24-2715', '638-60-7125', '659-36-1684', '219-22-9386', '336-78-2147', '268-27-6179', '668-90-8900', '870-54-3162', '189-08-9157', '663-86-9076', '549-84-7482', '191-10-6171', '802-70-5316', '695-51-0018', '590-83-4591', '483-71-1164', '597-78-7908', '700-81-1757', '354-39-5160', '241-72-9525', '575-30-8091', '731-81-9469', '280-17-4359', '338-65-2210', '488-25-4221', '239-10-7476', '458-41-1477', '685-64-1609', '568-90-5112', '262-47-2794', '238-49-0436', '608-96-3517', '584-86-7256', '746-94-0204', '214-17-6927', '400-89-4171', '782-95-9291', '279-74-2924', '307-85-2293', '743-04-1105', '423-57-2993', '894-41-5205', '275-28-0149', '101-17-6199', '423-80-0988', '548-46-9322', '505-02-0892', '234-65-2137', '687-47-8271', '796-32-9050', '105-31-1824', '249-42-3782', '316-55-4634', '733-33-4967', '608-27-6295', '414-12-7047', '827-26-2100', '175-54-2529', '139-52-2867', '407-63-8975', '342-65-4817', '130-98-8941', '434-83-9547', '851-28-6367', '824-88-3614', '586-25-0848', '895-66-0685', '305-14-0245', '732-04-5373', '400-60-7251', '593-65-1552', '284-34-9626', '437-58-8131', '286-43-6208', '641-43-2399', '831-07-6050', '556-86-3144', '848-24-9445', '856-22-8149', '699-01-4164', '420-11-4919', '606-80-4905', '542-41-0513', '426-39-2418', '875-46-5808', '394-43-4238', '749-24-1565', '672-51-8681', '263-87-5680', '573-58-9734', '817-69-8206', '888-02-0338', '677-11-0152', '142-63-6033', '656-16-1063', '891-58-8335', '802-43-8934', '560-30-5617', '319-74-2561', '549-03-9315', '790-29-1172', '239-36-3640', '468-01-2051', '389-25-3394', '279-62-1445', '213-72-6612', '746-68-6593', '836-82-5858', '583-72-1480', '466-61-5506', '721-86-6247', '289-65-5721', '545-46-3100', '418-02-5978', '269-04-5750', '157-13-5295', '645-78-8093', '211-30-9270', '755-12-3214', '346-84-3103', '478-06-7835', '540-11-4336', '448-81-5016', '142-72-4741', '217-58-1179', '376-02-8238', '530-90-9855', '866-05-7563', '604-70-6476', '799-71-1548', '785-13-7708', '845-51-0542', '662-47-5456', '883-17-4236', '290-68-2984', '704-11-6354', '110-48-7033', '366-93-0948', '729-09-9681', '151-16-1484', '380-94-4661', '850-41-9669', '821-07-3596', '655-85-5130', '447-15-7839', '154-74-7179', '253-12-6086', '808-65-0703', '571-94-0759', '144-51-6085', '731-14-2199', '783-09-1637', '687-15-1097', '126-54-1082', '633-91-1052', '477-24-6490', '566-19-5475', '526-86-8552', '376-56-3573', '537-72-0426', '828-61-5674', '136-08-6195', '523-38-0215', '490-29-1201', '667-92-0055', '565-17-3836', '498-41-1961', '593-95-4461', '226-71-3580', '283-79-9594', '430-60-3493', '139-20-0155', '558-80-4082', '278-97-7759', '316-68-6352', '585-03-5943', '211-05-0490', '727-75-6477', '744-02-5987', '307-83-9164', '779-06-0012', '446-47-6729', '573-10-3877', '735-06-4124', '439-54-7422', '396-90-2219', '411-77-0180', '286-01-5402', '803-17-8013', '512-98-1403', '848-42-2560', '532-59-7201', '181-94-6432', '870-76-1733', '423-64-4619', '227-07-4446', '174-36-3675', '428-83-5800', '603-07-0961', '704-20-4138', '787-15-1757', '649-11-3678', '622-20-1945', '372-94-8041', '563-91-7120', '746-54-5508', '276-54-0879', '815-11-1168', '719-76-3868', '730-61-8757', '340-66-0321', '868-81-1752', '634-97-8956', '566-71-1091', '442-48-3607', '835-16-0096', '527-09-6272', '898-04-2717', '692-27-8933', '633-09-3463', '374-17-3652', '378-07-7001', '433-75-6987', '873-95-4984', '416-13-5917', '150-89-8043', '135-84-8019', '441-94-7118', '725-96-3778', '531-80-1784', '400-45-1220', '860-79-0874', '834-61-8124', '115-99-4379', '565-67-6697', '320-49-6392', '889-04-9723', '632-90-0281', '554-42-2417', '453-63-6187', '578-80-7669', '612-36-5536', '605-72-4132', '471-41-2823', '462-67-9126', '272-27-9238', '834-25-9262', '122-61-9553', '468-88-0009', '613-59-9758', '254-31-0042', '201-86-2184', '261-12-8671', '730-70-9830', '382-25-8917', '422-29-8786', '667-23-5919', '843-01-4703', '743-88-1662', '595-86-2894', '182-69-8360', '289-15-7034', '462-78-5240', '868-52-7573', '153-58-4872', '662-72-2873', '525-88-7307', '689-16-9784', '725-56-0833', '394-41-0748', '596-42-3999', '541-89-9860', '173-82-9529', '563-36-9814', '308-47-4913', '885-17-6250', '726-27-2396', '316-01-3952', '760-54-1821', '793-10-3222', '346-12-3257', '110-05-6330', '651-61-0874', '236-86-3015', '831-64-0259', '587-03-7455', '882-40-4577', '732-67-5346', '725-32-9708', '256-08-8343', '372-26-1506', '244-08-0162', '569-71-4390', '132-23-6451', '696-90-2548', '472-15-9636', '268-03-6164', '750-57-9686', '186-09-3669', '848-07-1692', '745-71-3520', '266-76-6436', '740-22-2500', '271-88-8734', '301-81-8610', '489-64-4354', '198-84-7132', '269-10-8440', '650-98-6268', '741-73-3559', '325-77-6186', '286-75-7818', '574-57-9721', '459-50-7686', '616-87-0016', '837-55-7229', '751-69-0068', '257-73-1380', '345-08-4992', '549-96-4200', '810-60-6344', '450-28-2866', '394-30-3170', '138-17-5109', '192-98-7397', '301-11-9629', '390-80-5128', '235-46-8343', '453-12-7053', '296-11-7041', '449-27-2918', '891-01-7034', '744-09-5786', '727-17-0390', '568-88-3448', '187-83-5490', '767-54-1907', '710-46-4433', '533-33-5337', '325-90-8763', '729-46-7422', '639-76-1242', '234-03-4040', '326-71-2155', '320-32-8842', '470-32-9057', '878-30-2331', '440-59-5691', '554-53-3790', '746-19-0921', '233-34-0817', '767-05-1286', '340-21-9136', '405-31-3305', '731-59-7531', '676-39-6028', '502-05-1910', '485-30-8700', '598-47-9715', '701-69-8742', '575-67-1508', '541-08-3113', '246-11-3901', '674-15-9296', '305-18-3552', '493-65-6248', '438-01-4015', '709-58-4068', '795-49-7276', '556-72-8512', '627-95-3243', '686-41-0932', '510-09-5628', '608-04-3797', '148-82-2527', '437-53-3084', '632-32-4574', '556-97-7101', '862-59-8517', '401-18-8016', '420-18-8989', '277-63-2961', '573-98-8548', '620-02-2046', '282-35-2475', '511-54-3087', '726-29-6793', '387-49-4215', '862-17-9201', '291-21-5991', '602-80-9671', '347-72-6115', '209-61-0206', '595-27-4851', '189-52-0236', '503-07-0930', '413-20-6708', '425-85-2085', '521-18-7827', '220-28-1851', '600-38-9738', '734-91-1155', '451-28-5717', '609-81-8548', '133-14-7229', '534-01-4457', '719-89-8991', '286-62-6248', '339-38-9982', '827-44-5872', '827-77-7633', '287-83-1405', '435-13-4908', '857-67-9057', '236-27-1144', '892-05-6689', '583-41-4548', '339-12-4827', '643-38-7867', '308-81-0538', '358-88-9262', '460-35-4390', '343-87-0864', '173-50-1108', '243-47-2663', '841-18-8232', '701-23-5550', '647-50-1224', '541-48-8554', '539-21-7227', '213-32-1216', '747-58-7183', '582-52-8065', '210-57-1719', '399-69-4630', '134-75-2619', '356-44-8813', '198-66-9832', '283-26-5248', '712-39-0363', '218-59-9410', '174-75-0888', '866-99-7614', '134-54-4720', '760-90-2357', '514-37-2845', '698-98-5964', '718-57-9773', '651-88-7328', '241-11-2261', '408-26-9866', '834-83-1826', '343-61-3544', '239-48-4278', '355-34-6244', '550-84-8664', '339-96-8318', '458-61-0011', '592-34-6155', '797-88-0493', '207-73-1363', '390-31-6381', '443-82-0585', '339-18-7061', '359-90-3665', '375-72-3056', '127-47-6963', '278-86-2735', '695-28-6250', '379-17-6588', '227-50-3718', '302-15-2162', '788-07-8452', '560-49-6611', '880-35-0356', '585-11-6748', '470-31-3286', '152-68-2907', '123-35-4896', '258-69-7810', '334-64-2006', '219-61-4139', '881-41-7302', '373-09-4567', '642-30-6693', '484-22-8230', '830-58-2383', '559-98-9873', '544-32-5024', '318-12-0304', '349-97-8902', '421-95-9805', '277-35-5865', '789-23-8625', '284-54-4231', '443-59-0061', '509-29-3912', '327-40-9673', '840-19-2096', '828-46-6863', '641-96-3695', '420-97-3340', '436-54-4512', '670-79-6321', '852-62-7105', '598-06-7312', '135-13-8269', '816-57-2053', '628-90-8624', '856-66-2701', '308-39-1707', '149-61-1929', '655-07-2265', '589-02-8023', '420-04-7590', '182-88-2763', '188-55-0967', '610-46-4100', '318-81-2368', '364-33-8584', '665-63-9737', '695-09-5146', '155-45-3814', '794-32-2436', '131-15-8856', '273-84-2164', '706-36-6154', '778-89-7974', '574-31-8277', '859-71-0933', '740-11-5257', '369-82-2676', '563-47-4072', '742-04-5161', '149-15-7606', '133-77-3154', '169-52-4504', '250-81-7186', '562-12-5430', '816-72-8853', '491-38-3499', '322-02-2271', '842-29-4695', '725-67-2480', '641-51-2661', '714-02-3114', '518-17-2983', '779-42-2410', '190-14-3147', '408-66-6712', '679-22-6530', '588-47-8641', '642-61-4706', '576-31-4774', '556-41-6224', '811-03-8790', '242-11-3142', '752-23-3760', '274-05-5470', '648-94-3045', '130-67-4723', '528-87-5606', '320-85-2052', '370-96-0655', '105-10-6182', '510-79-0415', '241-96-5076', '767-97-4650', '648-83-1321', '173-57-2300', '305-03-2383', '394-55-6384', '266-20-6657', '689-05-1884', '196-01-2849', '372-62-5264', '800-09-8606', '182-52-7000', '826-58-8051', '868-06-0466', '751-41-9720', '626-43-7888', '176-64-7711', '191-29-0321', '729-06-2010', '640-48-5028', '186-79-9562', '834-45-5519', '162-65-8559', '760-27-5490', '445-30-9252', '786-94-2700', '728-88-7867', '183-21-3799', '268-20-3585', '735-32-9839', '258-92-7466', '857-16-3520', '482-17-1179', '788-21-5741', '821-14-9046', '418-05-0656', '678-79-0726', '776-68-1096', '592-46-1692', '434-35-9162', '149-14-0304', '442-44-6497', '174-64-0215', '210-74-9613', '299-29-0180', '247-11-2470', '635-28-5728', '756-49-0168', '438-23-1242', '238-45-6950', '607-65-2441', '386-27-7606', '137-63-5492', '197-77-7132', '805-86-0265', '733-29-1227', '451-73-2711', '373-14-0504', '546-80-2899', '345-68-9016', '390-17-5806', '457-13-1708', '664-14-2882', '487-79-6868', '314-23-4520', '210-30-7976', '585-86-8361', '807-14-7833', '775-72-1988', '288-38-3758', '652-43-6591', '785-96-0615', '406-46-7107', '250-17-5703', '156-95-3964', '842-40-8179', '525-09-8450', '410-67-1709', '587-73-4862', '787-87-2010', '593-14-4239', '801-88-0346', '388-76-2555', '711-31-1234', '886-54-6089', '707-32-7409', '759-98-4285', '201-63-8275', '471-06-8611', '200-16-5952', '120-54-2248', '102-77-2261', '875-31-8302', '102-06-2002', '457-94-0464', '629-42-4133', '534-53-3526', '307-04-2070', '468-99-7231', '516-77-6464', '404-91-5964', '886-77-9084', '790-38-4466', '704-10-4056', '497-37-6538', '651-96-5970', '400-80-4065', '744-16-7898', '263-12-5321', '702-72-0487', '605-83-1050', '443-60-9639', '864-24-7918', '359-94-5395', '401-09-4232', '751-15-6198', '324-41-6833', '474-33-8305', '759-29-9521', '831-81-6575', '220-68-6701', '618-34-8551', '257-60-7754', '559-61-5987', '189-55-2313', '565-91-4567', '380-60-5336', '815-04-6282', '674-56-6360', '778-34-2523', '499-27-7781', '477-59-2456', '832-51-6761', '869-11-3082', '190-59-3964', '366-43-6862', '186-43-8965', '784-21-9238', '276-75-6884', '109-86-4363', '569-76-2760', '222-42-0244', '760-53-9233', '538-22-0304', '416-17-9926', '237-44-6163', '636-17-0325', '343-75-9322', '528-14-9470', '427-45-9297', '807-34-3742', '288-62-1085', '670-71-7306', '660-29-7083', '271-77-8740', '497-36-0989', '291-59-1384', '860-73-6466', '549-23-9016', '896-34-0956', '804-38-3935', '585-90-0249', '862-29-5914', '845-94-6841', '125-45-2293', '843-73-4724', '409-33-9708', '658-66-3967', '866-70-2814', '160-22-2687', '895-03-6665', '770-42-8960', '748-45-2862', '234-36-2483', '316-66-3011', '848-95-6252', '840-76-5966', '152-03-4217', '533-66-5566', '124-31-1458', '176-78-1170', '361-59-0574', '101-81-4070', '631-34-1880', '852-82-2749', '873-14-6353', '584-66-4073', '544-55-9589', '166-19-2553', '737-88-5876', '154-87-7367', '885-56-0389', '608-05-3804', '448-61-3783', '761-49-0439', '490-95-0021', '115-38-7388', '311-13-6971', '291-55-6563', '548-48-3156', '460-93-5834', '325-89-4209', '884-80-6021', '137-74-8729', '880-46-5796', '389-70-2397', '114-35-5271', '607-76-6216', '715-20-1673', '811-35-1094', '699-88-1972', '781-84-8059', '409-49-6995', '725-54-0677', '146-09-5432', '377-79-7592', '509-10-0516', '595-94-9924', '865-41-9075', '545-07-8534', '118-62-1812', '450-42-3339', '851-98-3555', '186-71-5196', '624-01-8356', '313-66-9943', '151-27-8496', '453-33-6436', '522-57-8364', '459-45-2396', '717-96-4189', '722-13-2115', '749-81-8133', '777-67-2495', '636-98-3364', '246-55-6923', '181-82-6255', '838-02-1821', '887-42-0517', '457-12-0244', '226-34-0034', '321-49-7382', '397-25-8725', '431-66-2305', '825-94-5922', '641-62-7288', '756-93-1854', '243-55-8457', '458-10-8612', '501-61-1753', '235-06-8510', '433-08-7822', '361-85-2571', '131-70-8179', '500-02-2261', '720-72-2436', '702-83-5291', '809-69-9497', '449-16-6770', '333-23-2632', '489-82-1237', '859-97-6048', '676-10-2200', '373-88-1424', '365-16-4334', '503-21-4385', '305-89-2768', '574-80-1489', '784-08-0310', '200-40-6154', '846-10-0341', '577-34-7579', '430-02-3888', '867-47-1948', '384-59-6655', '256-58-3609', '324-92-3863', '593-08-5916', '364-34-2972', '794-42-3736', '172-42-8274', '558-60-5016', '195-06-0432', '605-03-2706', '214-30-2776', '746-04-1077', '448-34-8700', '452-04-8808', '531-56-4728', '744-82-9138', '883-69-1285', '221-25-5073', '518-71-6847', '156-20-0370', '151-33-7434', '728-47-9078', '809-46-1866', '139-32-4183', '148-41-7930', '189-40-5216', '374-38-5555', '764-44-8999', '552-44-5977', '267-62-7380', '430-53-4718', '886-18-2897', '602-16-6955', '745-74-0715', '690-01-6631', '652-49-6720', '233-67-5758', '303-96-2227', '727-02-1313', '347-56-2442', '849-09-3807']\n",
            "Kolom 'Branch': Tidak ada nilai noise/inconsistent.\n",
            "Kolom 'City': Tidak ada nilai noise/inconsistent.\n",
            "Kolom 'Customer type': Tidak ada nilai noise/inconsistent.\n",
            "Kolom 'Gender': Tidak ada nilai noise/inconsistent.\n",
            "Kolom 'Product line': Terdapat nilai noise/inconsistent: ['Health and beauty', 'Electronic accessories', 'Home and lifestyle', 'Sports and travel', 'Food and beverages', 'Fashion accessories']\n",
            "Kolom 'Unit price': Tidak ada nilai noise/inconsistent.\n",
            "Kolom 'Quantity': Tidak ada nilai noise/inconsistent.\n",
            "Kolom 'Tax 5%': Tidak ada nilai noise/inconsistent.\n",
            "Kolom 'Total': Tidak ada nilai noise/inconsistent.\n",
            "Kolom 'Date': Terdapat nilai noise/inconsistent: ['1/5/2019', '3/8/2019', '3/3/2019', '1/27/2019', '2/8/2019', '3/25/2019', '2/25/2019', '2/24/2019', '1/10/2019', '2/20/2019', '2/6/2019', '3/9/2019', '2/12/2019', '2/7/2019', '3/29/2019', '1/15/2019', '3/11/2019', '1/1/2019', '1/21/2019', '3/5/2019', '3/15/2019', '2/17/2019', '3/2/2019', '3/22/2019', '3/10/2019', '1/25/2019', '1/28/2019', '1/7/2019', '3/23/2019', '1/17/2019', '2/2/2019', '3/4/2019', '3/16/2019', '2/27/2019', '2/10/2019', '3/19/2019', '2/3/2019', '3/7/2019', '2/28/2019', '3/27/2019', '1/20/2019', '3/12/2019', '2/15/2019', '3/6/2019', '2/14/2019', '3/13/2019', '1/24/2019', '1/6/2019', '2/11/2019', '1/22/2019', '1/13/2019', '1/9/2019', '1/12/2019', '1/26/2019', '1/23/2019', '2/23/2019', '1/2/2019', '2/9/2019', '3/26/2019', '3/1/2019', '2/1/2019', '3/28/2019', '3/24/2019', '2/5/2019', '1/19/2019', '1/16/2019', '1/8/2019', '2/18/2019', '1/18/2019', '2/16/2019', '2/22/2019', '1/29/2019', '1/4/2019', '3/30/2019', '1/30/2019', '1/3/2019', '3/21/2019', '2/13/2019', '1/14/2019', '3/18/2019', '3/20/2019', '2/21/2019', '1/31/2019', '1/11/2019', '2/26/2019', '3/17/2019', '3/14/2019', '2/4/2019', '2/19/2019']\n",
            "Kolom 'Time': Terdapat nilai noise/inconsistent: ['13:08', '10:29', '13:23', '20:33', '10:37', '18:30', '14:36', '11:38', '17:15', '13:27', '18:07', '17:03', '10:25', '16:48', '19:21', '16:19', '11:03', '10:39', '18:00', '15:30', '11:24', '10:40', '12:20', '11:15', '17:36', '19:20', '15:31', '12:17', '19:48', '15:36', '19:39', '12:43', '14:49', '10:12', '10:42', '12:28', '19:15', '17:17', '13:24', '13:01', '18:45', '10:11', '13:03', '20:39', '19:47', '17:24', '15:47', '12:45', '17:08', '10:19', '15:10', '14:42', '15:46', '11:49', '19:01', '11:26', '11:28', '15:55', '20:36', '17:47', '10:55', '13:40', '12:27', '14:35', '16:40', '15:43', '15:01', '10:04', '18:50', '12:46', '18:17', '18:21', '17:04', '14:20', '15:48', '16:24', '18:56', '19:56', '18:37', '10:17', '14:31', '10:23', '20:35', '16:57', '17:55', '19:54', '16:42', '12:09', '20:05', '20:38', '13:11', '10:16', '18:14', '13:22', '11:27', '16:44', '18:19', '14:50', '20:54', '20:19', '10:43', '14:30', '11:32', '10:41', '12:44', '20:07', '20:31', '12:29', '15:26', '20:48', '12:02', '17:26', '19:52', '14:57', '18:44', '13:26', '16:17', '15:57', '13:18', '20:34', '18:36', '14:40', '16:43', '20:59', '15:39', '12:21', '19:25', '13:00', '13:48', '19:57', '10:36', '16:37', '17:11', '15:07', '16:07', '11:56', '18:23', '13:05', '19:40', '13:58', '14:43', '19:18', '16:21', '19:44', '19:42', '15:24', '14:12', '13:32', '16:20', '16:31', '11:36', '19:17', '17:34', '12:04', '17:01', '10:50', '19:16', '16:47', '10:00', '11:51', '15:00', '11:19', '19:46', '19:00', '10:53', '12:50', '20:50', '13:41', '19:08', '20:23', '11:30', '19:30', '18:03', '10:13', '19:58', '10:01', '11:57', '10:02', '14:51', '12:42', '17:38', '20:24', '18:08', '15:53', '15:05', '18:27', '16:55', '12:58', '18:59', '13:44', '13:46', '18:06', '12:38', '15:56', '14:29', '19:14', '10:52', '12:55', '19:28', '13:52', '10:54', '18:31', '18:24', '18:09', '15:16', '17:07', '19:26', '11:20', '16:49', '12:01', '11:25', '18:42', '14:47', '19:43', '14:04', '16:11', '19:06', '15:34', '11:22', '11:23', '10:46', '13:25', '14:53', '19:22', '11:00', '19:24', '17:22', '20:55', '16:05', '13:34', '18:13', '11:44', '15:51', '16:52', '20:52', '16:28', '13:29', '11:09', '15:02', '14:21', '18:01', '13:30', '14:38', '17:37', '17:20', '20:29', '11:46', '13:42', '14:44', '14:16', '15:54', '10:21', '16:46', '20:14', '17:09', '17:43', '19:05', '10:08', '13:12', '20:51', '17:29', '11:34', '18:58', '20:26', '15:08', '13:21', '12:48', '19:53', '19:09', '16:30', '13:07', '18:48', '17:27', '15:59', '11:21', '15:49', '13:02', '20:21', '15:04', '16:10', '12:14', '11:06', '18:22', '19:02', '15:44', '20:01', '13:45', '15:40', '16:58', '11:12', '15:12', '20:37', '17:44', '16:23', '12:12', '19:33', '14:28', '17:54', '12:25', '12:52', '19:50', '15:32', '13:19', '13:37', '14:55', '12:31', '10:26', '20:18', '20:04', '13:38', '17:30', '15:28', '19:07', '18:55', '19:36', '10:57', '17:13', '13:57', '13:53', '16:53', '16:51', '15:37', '20:15', '19:35', '15:42', '14:11', '17:58', '11:02', '15:09', '13:47', '16:59', '14:15', '15:19', '18:33', '12:10', '11:40', '16:54', '15:25', '20:47', '18:20', '11:48', '14:14', '11:17', '12:40', '17:53', '16:36', '10:48', '18:05', '12:07', '19:49', '15:52', '20:46', '10:34', '13:55', '11:43', '16:03', '20:03', '19:41', '18:04', '10:31', '13:28', '17:16', '18:43', '10:30', '20:40', '12:08', '17:45', '10:28', '10:49', '12:34', '18:51', '19:38', '12:32', '10:33', '19:55', '14:33', '13:54', '12:15', '12:37', '15:06', '15:58', '14:03', '16:38', '11:07', '12:23', '14:13', '19:11', '18:53', '14:22', '10:06', '20:08', '12:56', '10:18', '11:45', '16:08', '12:24', '19:51', '18:10', '15:27', '16:04', '14:41', '14:19', '14:08', '11:29', '12:16', '20:00', '15:29', '14:58', '11:52', '17:46', '14:45', '11:39', '13:06', '20:43', '16:34', '13:10', '17:10', '10:22', '19:29', '14:27', '12:22', '11:59', '17:59', '12:51', '13:56', '19:45', '16:18', '18:57', '11:18', '14:06', '20:13', '15:14', '16:06', '12:47', '20:42', '20:10', '14:24', '11:42', '17:49', '15:33', '10:38', '12:39', '14:26', '12:41', '15:20', '16:33', '20:44', '11:16', '12:30', '17:48', '20:30', '13:59', '11:58', '16:50', '18:02', '17:52', '20:32', '16:09', '11:33', '15:15', '20:06', '16:26', '18:38', '16:45', '18:41', '17:12', '14:00', '16:32', '10:10', '10:05', '18:15', '11:01', '15:21', '16:16', '11:05', '19:31', '18:35', '13:51', '12:35', '11:55', '15:11', '14:48', '12:36', '13:35', '15:45', '14:25', '15:18', '10:03', '13:14', '16:35', '20:57', '13:50', '17:35', '17:56', '10:44', '10:09', '10:58', '13:49', '11:10', '13:33', '14:05', '16:27', '15:23', '18:18', '15:17', '19:12']\n",
            "Kolom 'Payment': Terdapat nilai noise/inconsistent: ['Credit card']\n",
            "Kolom 'cogs': Tidak ada nilai noise/inconsistent.\n",
            "Kolom 'gross margin percentage': Tidak ada nilai noise/inconsistent.\n",
            "Kolom 'gross income': Tidak ada nilai noise/inconsistent.\n",
            "Kolom 'Rating': Tidak ada nilai noise/inconsistent.\n"
          ]
        }
      ]
    },
    {
      "cell_type": "markdown",
      "source": [
        "Kolom Invoice ID,Product Line,Date,Time,Payment memiliki nilai noise atau inconsistent\n",
        "\n",
        "sedangkan Baranch,City,Customer Type,Gender,Unit Price,,Quantity,Tax 5%,Total,Cogs,Gross Margin Percentage,Gross Income,dan Rating tidak memiliki nilai noise atau inconsistent"
      ],
      "metadata": {
        "id": "EkXbuFONh62d"
      }
    }
  ]
}